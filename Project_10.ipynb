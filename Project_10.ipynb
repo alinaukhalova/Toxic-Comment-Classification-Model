{
 "cells": [
  {
   "cell_type": "markdown",
   "metadata": {},
   "source": [
    "# Проект «ML для текстов»"
   ]
  },
  {
   "cell_type": "markdown",
   "metadata": {},
   "source": [
    "Интернет-магазин «Викишоп» внедряет новый сервис, позволяющий пользователям редактировать и дополнять описания товаров. Такой подход, похожий на функционирование вики-сообществ, расширяет возможности клиентов и делает контент более актуальным. Однако с открытием редактирования возрастает риск появления токсичных комментариев, которые могут негативно повлиять на атмосферу сервиса. Для решения этой проблемы требуется инструмент, автоматически классифицирующий комментарии и отправляющий токсичные на модерацию.\n",
    "\n",
    "Цель работы — создать модель машинного обучения, которая будет эффективно определять токсичные комментарии. Для выполнения этой задачи мы используем набор данных представленный в файле toxic_comments.csv. Столбец text содержит тексты комментариев, а столбец toxic — целевой признак, указывающий на их характер (0 — нетоксичный, 1 — токсичный).\n",
    "\n",
    "Чтобы достичь поставленной цели и обеспечить высокое качество классификации, необходимо выполнить следующие шаги:\n",
    "\n",
    "- Загрузка и подготовка данных: изучить структуру данных, выполнить предобработку текста, устранить пропуски и привести данные к виду, пригодному для обучения моделей.\n",
    "- Обучение моделей: протестировать несколько алгоритмов классификации, выбрать лучшие гиперпараметры и провести оценку моделей.\n",
    "- Оценка качества: выбрать оптимальную модель, достигшую значения метрики F1 не менее 0.75.\n",
    "\n",
    "\n",
    "По итогам проекта будет разработан инструмент для автоматической классификации комментариев, который поможет улучшить взаимодействие пользователей с платформой и сократить объем работы модераторов."
   ]
  },
  {
   "cell_type": "markdown",
   "metadata": {},
   "source": [
    "## Подготовка"
   ]
  },
  {
   "cell_type": "code",
   "execution_count": 1,
   "metadata": {
    "collapsed": true,
    "jupyter": {
     "outputs_hidden": true
    }
   },
   "outputs": [
    {
     "name": "stdout",
     "output_type": "stream",
     "text": [
      "Requirement already satisfied: scikit-learn==1.1.3 in /opt/conda/lib/python3.9/site-packages (1.1.3)\n",
      "Requirement already satisfied: scipy>=1.3.2 in /opt/conda/lib/python3.9/site-packages (from scikit-learn==1.1.3) (1.9.1)\n",
      "Requirement already satisfied: threadpoolctl>=2.0.0 in /opt/conda/lib/python3.9/site-packages (from scikit-learn==1.1.3) (3.1.0)\n",
      "Requirement already satisfied: numpy>=1.17.3 in /opt/conda/lib/python3.9/site-packages (from scikit-learn==1.1.3) (1.21.1)\n",
      "Requirement already satisfied: joblib>=1.0.0 in /opt/conda/lib/python3.9/site-packages (from scikit-learn==1.1.3) (1.1.0)\n",
      "Requirement already satisfied: spacy in /opt/conda/lib/python3.9/site-packages (3.2.0)\n",
      "Requirement already satisfied: preshed<3.1.0,>=3.0.2 in /opt/conda/lib/python3.9/site-packages (from spacy) (3.0.7)\n",
      "Requirement already satisfied: packaging>=20.0 in /opt/conda/lib/python3.9/site-packages (from spacy) (21.3)\n",
      "Requirement already satisfied: catalogue<2.1.0,>=2.0.6 in /opt/conda/lib/python3.9/site-packages (from spacy) (2.0.8)\n",
      "Requirement already satisfied: langcodes<4.0.0,>=3.2.0 in /opt/conda/lib/python3.9/site-packages (from spacy) (3.3.0)\n",
      "Requirement already satisfied: numpy>=1.15.0 in /opt/conda/lib/python3.9/site-packages (from spacy) (1.21.1)\n",
      "Requirement already satisfied: spacy-loggers<2.0.0,>=1.0.0 in /opt/conda/lib/python3.9/site-packages (from spacy) (1.0.3)\n",
      "Requirement already satisfied: setuptools in /opt/conda/lib/python3.9/site-packages (from spacy) (49.6.0.post20210108)\n",
      "Requirement already satisfied: srsly<3.0.0,>=2.4.1 in /opt/conda/lib/python3.9/site-packages (from spacy) (2.4.4)\n",
      "Requirement already satisfied: pathy>=0.3.5 in /opt/conda/lib/python3.9/site-packages (from spacy) (0.6.2)\n",
      "Requirement already satisfied: tqdm<5.0.0,>=4.38.0 in /opt/conda/lib/python3.9/site-packages (from spacy) (4.61.2)\n",
      "Requirement already satisfied: cymem<2.1.0,>=2.0.2 in /opt/conda/lib/python3.9/site-packages (from spacy) (2.0.6)\n",
      "Requirement already satisfied: blis<0.8.0,>=0.4.0 in /opt/conda/lib/python3.9/site-packages (from spacy) (0.7.8)\n",
      "Requirement already satisfied: thinc<8.1.0,>=8.0.12 in /opt/conda/lib/python3.9/site-packages (from spacy) (8.0.17)\n",
      "Requirement already satisfied: spacy-legacy<3.1.0,>=3.0.8 in /opt/conda/lib/python3.9/site-packages (from spacy) (3.0.10)\n",
      "Requirement already satisfied: murmurhash<1.1.0,>=0.28.0 in /opt/conda/lib/python3.9/site-packages (from spacy) (1.0.8)\n",
      "Requirement already satisfied: wasabi<1.1.0,>=0.8.1 in /opt/conda/lib/python3.9/site-packages (from spacy) (0.10.1)\n",
      "Requirement already satisfied: jinja2 in /opt/conda/lib/python3.9/site-packages (from spacy) (3.0.1)\n",
      "Requirement already satisfied: typer<0.5.0,>=0.3.0 in /opt/conda/lib/python3.9/site-packages (from spacy) (0.4.2)\n",
      "Requirement already satisfied: pydantic!=1.8,!=1.8.1,<1.9.0,>=1.7.4 in /opt/conda/lib/python3.9/site-packages (from spacy) (1.8.2)\n",
      "Requirement already satisfied: requests<3.0.0,>=2.13.0 in /opt/conda/lib/python3.9/site-packages (from spacy) (2.25.1)\n",
      "Requirement already satisfied: pyparsing!=3.0.5,>=2.0.2 in /opt/conda/lib/python3.9/site-packages (from packaging>=20.0->spacy) (2.4.7)\n",
      "Requirement already satisfied: smart-open<6.0.0,>=5.2.1 in /opt/conda/lib/python3.9/site-packages (from pathy>=0.3.5->spacy) (5.2.1)\n",
      "Requirement already satisfied: typing-extensions>=3.7.4.3 in /opt/conda/lib/python3.9/site-packages (from pydantic!=1.8,!=1.8.1,<1.9.0,>=1.7.4->spacy) (4.3.0)\n",
      "Requirement already satisfied: certifi>=2017.4.17 in /opt/conda/lib/python3.9/site-packages (from requests<3.0.0,>=2.13.0->spacy) (2022.6.15)\n",
      "Requirement already satisfied: idna<3,>=2.5 in /opt/conda/lib/python3.9/site-packages (from requests<3.0.0,>=2.13.0->spacy) (2.10)\n",
      "Requirement already satisfied: urllib3<1.27,>=1.21.1 in /opt/conda/lib/python3.9/site-packages (from requests<3.0.0,>=2.13.0->spacy) (1.26.6)\n",
      "Requirement already satisfied: chardet<5,>=3.0.2 in /opt/conda/lib/python3.9/site-packages (from requests<3.0.0,>=2.13.0->spacy) (4.0.0)\n",
      "Requirement already satisfied: click<9.0.0,>=7.1.1 in /opt/conda/lib/python3.9/site-packages (from typer<0.5.0,>=0.3.0->spacy) (8.1.3)\n",
      "Requirement already satisfied: MarkupSafe>=2.0 in /opt/conda/lib/python3.9/site-packages (from jinja2->spacy) (2.1.1)\n",
      "Requirement already satisfied: tqdm in /opt/conda/lib/python3.9/site-packages (4.61.2)\n"
     ]
    },
    {
     "name": "stderr",
     "output_type": "stream",
     "text": [
      "[nltk_data] Downloading package stopwords to /home/jovyan/nltk_data...\n",
      "[nltk_data]   Package stopwords is already up-to-date!\n",
      "[nltk_data] Downloading package punkt to /home/jovyan/nltk_data...\n",
      "[nltk_data]   Package punkt is already up-to-date!\n",
      "[nltk_data] Downloading package wordnet to /home/jovyan/nltk_data...\n",
      "[nltk_data]   Package wordnet is already up-to-date!\n",
      "[nltk_data] Downloading package averaged_perceptron_tagger to\n",
      "[nltk_data]     /home/jovyan/nltk_data...\n",
      "[nltk_data]   Package averaged_perceptron_tagger is already up-to-\n",
      "[nltk_data]       date!\n"
     ]
    },
    {
     "name": "stdout",
     "output_type": "stream",
     "text": [
      "Requirement already satisfied: wordcloud==1.8.2.2 in /opt/conda/lib/python3.9/site-packages (1.8.2.2)\n",
      "Requirement already satisfied: matplotlib in /opt/conda/lib/python3.9/site-packages (from wordcloud==1.8.2.2) (3.3.4)\n",
      "Requirement already satisfied: pillow in /opt/conda/lib/python3.9/site-packages (from wordcloud==1.8.2.2) (9.5.0)\n",
      "Requirement already satisfied: numpy>=1.6.1 in /opt/conda/lib/python3.9/site-packages (from wordcloud==1.8.2.2) (1.21.1)\n",
      "Requirement already satisfied: pyparsing!=2.0.4,!=2.1.2,!=2.1.6,>=2.0.3 in /opt/conda/lib/python3.9/site-packages (from matplotlib->wordcloud==1.8.2.2) (2.4.7)\n",
      "Requirement already satisfied: python-dateutil>=2.1 in /opt/conda/lib/python3.9/site-packages (from matplotlib->wordcloud==1.8.2.2) (2.8.1)\n",
      "Requirement already satisfied: cycler>=0.10 in /opt/conda/lib/python3.9/site-packages (from matplotlib->wordcloud==1.8.2.2) (0.11.0)\n",
      "Requirement already satisfied: kiwisolver>=1.0.1 in /opt/conda/lib/python3.9/site-packages (from matplotlib->wordcloud==1.8.2.2) (1.4.4)\n",
      "Requirement already satisfied: six>=1.5 in /opt/conda/lib/python3.9/site-packages (from python-dateutil>=2.1->matplotlib->wordcloud==1.8.2.2) (1.16.0)\n",
      "Requirement already satisfied: Pillow==9.5.0 in /opt/conda/lib/python3.9/site-packages (9.5.0)\n"
     ]
    }
   ],
   "source": [
    "!pip install scikit-learn==1.1.3\n",
    "!pip install spacy\n",
    "!pip install tqdm\n",
    "\n",
    "import time\n",
    "import warnings\n",
    "import re\n",
    "import nltk\n",
    "import numpy as np\n",
    "import pandas as pd\n",
    "import seaborn as sns\n",
    "\n",
    "from matplotlib import pyplot as plt\n",
    "from sklearn.pipeline import Pipeline\n",
    "from sklearn.linear_model import LogisticRegression\n",
    "from sklearn.ensemble import RandomForestClassifier\n",
    "from sklearn.tree import DecisionTreeClassifier\n",
    "from sklearn.metrics import f1_score\n",
    "from sklearn.model_selection import (RandomizedSearchCV, train_test_split)\n",
    "from sklearn.feature_extraction.text import CountVectorizer, TfidfTransformer, TfidfVectorizer\n",
    "from nltk.probability import FreqDist\n",
    "from tqdm.notebook import tqdm\n",
    "\n",
    "# Импорт NLTK\n",
    "from nltk.corpus import stopwords as nltk_stopwords\n",
    "nltk.download('stopwords')\n",
    "stopwords = set(nltk_stopwords.words('english'))\n",
    "\n",
    "# Загрузка других необходимых ресурсов NLTK\n",
    "nltk.download('punkt')\n",
    "nltk.download('wordnet')\n",
    "nltk.download('averaged_perceptron_tagger')\n",
    "\n",
    "# Импорт лемматизатора и токенизатора\n",
    "from nltk.stem import WordNetLemmatizer\n",
    "from nltk.tokenize import word_tokenize\n",
    "from nltk import pos_tag\n",
    "from nltk.corpus import wordnet\n",
    "\n",
    "# Отключение предупреждений\n",
    "warnings.filterwarnings(\"ignore\")\n",
    "\n",
    "# Настройка tqdm для прогресс-баров\n",
    "tqdm.pandas()\n",
    "\n",
    "# Установка фиксированного значения для генератора случайных чисел\n",
    "RANDOM_STATE = 42\n",
    "\n",
    "# Импорт облака слов\n",
    "!/opt/conda/bin/python -m pip install wordcloud==1.8.2.2  \n",
    "!pip install Pillow==9.5.0\n",
    "from wordcloud import WordCloud"
   ]
  },
  {
   "cell_type": "markdown",
   "metadata": {},
   "source": [
    "Для начала загрузим наш исходный датасет"
   ]
  },
  {
   "cell_type": "code",
   "execution_count": 2,
   "metadata": {},
   "outputs": [],
   "source": [
    "toxic_comments = pd.read_csv('/datasets/toxic_comments.csv')"
   ]
  },
  {
   "cell_type": "code",
   "execution_count": 3,
   "metadata": {},
   "outputs": [
    {
     "name": "stdout",
     "output_type": "stream",
     "text": [
      "<class 'pandas.core.frame.DataFrame'>\n",
      "RangeIndex: 159292 entries, 0 to 159291\n",
      "Data columns (total 3 columns):\n",
      " #   Column      Non-Null Count   Dtype \n",
      "---  ------      --------------   ----- \n",
      " 0   Unnamed: 0  159292 non-null  int64 \n",
      " 1   text        159292 non-null  object\n",
      " 2   toxic       159292 non-null  int64 \n",
      "dtypes: int64(2), object(1)\n",
      "memory usage: 3.6+ MB\n"
     ]
    },
    {
     "data": {
      "text/plain": [
       "None"
      ]
     },
     "metadata": {},
     "output_type": "display_data"
    },
    {
     "data": {
      "text/html": [
       "<div>\n",
       "<style scoped>\n",
       "    .dataframe tbody tr th:only-of-type {\n",
       "        vertical-align: middle;\n",
       "    }\n",
       "\n",
       "    .dataframe tbody tr th {\n",
       "        vertical-align: top;\n",
       "    }\n",
       "\n",
       "    .dataframe thead th {\n",
       "        text-align: right;\n",
       "    }\n",
       "</style>\n",
       "<table border=\"1\" class=\"dataframe\">\n",
       "  <thead>\n",
       "    <tr style=\"text-align: right;\">\n",
       "      <th></th>\n",
       "      <th>Unnamed: 0</th>\n",
       "      <th>text</th>\n",
       "      <th>toxic</th>\n",
       "    </tr>\n",
       "  </thead>\n",
       "  <tbody>\n",
       "    <tr>\n",
       "      <th>0</th>\n",
       "      <td>0</td>\n",
       "      <td>Explanation\\nWhy the edits made under my usern...</td>\n",
       "      <td>0</td>\n",
       "    </tr>\n",
       "    <tr>\n",
       "      <th>1</th>\n",
       "      <td>1</td>\n",
       "      <td>D'aww! He matches this background colour I'm s...</td>\n",
       "      <td>0</td>\n",
       "    </tr>\n",
       "    <tr>\n",
       "      <th>2</th>\n",
       "      <td>2</td>\n",
       "      <td>Hey man, I'm really not trying to edit war. It...</td>\n",
       "      <td>0</td>\n",
       "    </tr>\n",
       "    <tr>\n",
       "      <th>3</th>\n",
       "      <td>3</td>\n",
       "      <td>\"\\nMore\\nI can't make any real suggestions on ...</td>\n",
       "      <td>0</td>\n",
       "    </tr>\n",
       "    <tr>\n",
       "      <th>4</th>\n",
       "      <td>4</td>\n",
       "      <td>You, sir, are my hero. Any chance you remember...</td>\n",
       "      <td>0</td>\n",
       "    </tr>\n",
       "  </tbody>\n",
       "</table>\n",
       "</div>"
      ],
      "text/plain": [
       "   Unnamed: 0                                               text  toxic\n",
       "0           0  Explanation\\nWhy the edits made under my usern...      0\n",
       "1           1  D'aww! He matches this background colour I'm s...      0\n",
       "2           2  Hey man, I'm really not trying to edit war. It...      0\n",
       "3           3  \"\\nMore\\nI can't make any real suggestions on ...      0\n",
       "4           4  You, sir, are my hero. Any chance you remember...      0"
      ]
     },
     "metadata": {},
     "output_type": "display_data"
    }
   ],
   "source": [
    "display(toxic_comments.info())\n",
    "display(toxic_comments.head())"
   ]
  },
  {
   "cell_type": "markdown",
   "metadata": {},
   "source": [
    "Датафрейм содержит почти 160 тыс. записей. Признак text — тексты твитов для обучения, а toxic — целевой признак для классификации."
   ]
  },
  {
   "cell_type": "markdown",
   "metadata": {},
   "source": [
    "Как видно, столбец Unnamed: 0 содержит значения, которые полностью совпадают с индексами строк. Поэтому его можно безопасно удалить."
   ]
  },
  {
   "cell_type": "code",
   "execution_count": 4,
   "metadata": {},
   "outputs": [],
   "source": [
    "toxic_comments = toxic_comments.drop('Unnamed: 0', axis=1)"
   ]
  },
  {
   "cell_type": "markdown",
   "metadata": {},
   "source": [
    "Проверим данные на дубликаты:"
   ]
  },
  {
   "cell_type": "code",
   "execution_count": 5,
   "metadata": {},
   "outputs": [
    {
     "name": "stdout",
     "output_type": "stream",
     "text": [
      "0\n"
     ]
    }
   ],
   "source": [
    "print(toxic_comments.duplicated().sum())"
   ]
  },
  {
   "cell_type": "markdown",
   "metadata": {},
   "source": [
    "Проверим уникальные значения в столбце toxic"
   ]
  },
  {
   "cell_type": "code",
   "execution_count": 6,
   "metadata": {},
   "outputs": [
    {
     "name": "stdout",
     "output_type": "stream",
     "text": [
      "[0 1]\n"
     ]
    }
   ],
   "source": [
    "print(toxic_comments['toxic'].unique())"
   ]
  },
  {
   "cell_type": "markdown",
   "metadata": {},
   "source": [
    "Построим гистограмму для переменной toxic, чтобы увидеть, насколько сбалансированы наши классы. Это помогает понять, есть ли в данных дисбаланс, который может повлиять на качество модели"
   ]
  },
  {
   "cell_type": "code",
   "execution_count": 7,
   "metadata": {},
   "outputs": [
    {
     "data": {
      "image/png": "[encoded data removed]",
      "text/plain": [
       "<Figure size 576x432 with 1 Axes>"
      ]
     },
     "metadata": {
      "needs_background": "light"
     },
     "output_type": "display_data"
    }
   ],
   "source": [
    "plt.figure(figsize=(8, 6))\n",
    "toxic_comments['toxic'].hist(bins=30, color='skyblue')\n",
    "\n",
    "# Добавляем заголовок и подписи осей\n",
    "plt.title('Анализ баланса классов целевой переменной', fontsize=16)\n",
    "plt.xlabel('Класс (0 - нетоксичный, 1 - токсичный)', fontsize=14)\n",
    "plt.ylabel('Количество записей', fontsize=14)\n",
    "plt.show()"
   ]
  },
  {
   "cell_type": "markdown",
   "metadata": {},
   "source": [
    "Как видно по результатам выше, наш исходный датафрейм включает в себя около 160 тысяч строк, что является достаточно значительным объемом данных. Наши данные чистые, без дубликатов, а признак toxic содержит несбалансированные классы с существенным перевесом класса 0 чуть ли не в 7 раз, что нужно учитывать при дальнейшей работе."
   ]
  },
  {
   "cell_type": "markdown",
   "metadata": {},
   "source": [
    "В столбце text присутствуют ненужные символы, которые могут помешать дальнейшей обработке данных. Чтобы обеспечить более качественную работу с комментариями, следует удалить эти лишние символы."
   ]
  },
  {
   "cell_type": "code",
   "execution_count": 8,
   "metadata": {},
   "outputs": [
    {
     "name": "stdout",
     "output_type": "stream",
     "text": [
      "                                                text  toxic\n",
      "0  explanation why the edits made under my userna...      0\n",
      "1  daww he matches this background colour im seem...      0\n",
      "2  hey man im really not trying to edit war its j...      0\n",
      "3  more i cant make any real suggestions on impro...      0\n",
      "4  you sir are my hero any chance you remember wh...      0\n"
     ]
    }
   ],
   "source": [
    "# Функция для удаления лишних символов\n",
    "def clean_text(text):\n",
    "    text = re.sub(r'[\\n\\r\\s]+', ' ', text)\n",
    "    text = re.sub(r'[^a-zA-Z ]', '', text)\n",
    "    text = re.sub(r'\\s+', ' ', text)\n",
    "    text = text.strip()\n",
    "    text = text.lower()\n",
    "    return text\n",
    "\n",
    "toxic_comments['text'] = toxic_comments['text'].apply(clean_text)\n",
    "\n",
    "# Проверим несколько строк\n",
    "print(toxic_comments.head())"
   ]
  },
  {
   "cell_type": "markdown",
   "metadata": {},
   "source": [
    "Далее произведем подсчёт статистики встречаемости слов в тексте. Для этого сначала разобьем наш очищенный текст на слова, а потом построим график, для 20 наиболее встречающихся слов, и облако слов (применим класс FreqDist (frequency distributions))"
   ]
  },
  {
   "cell_type": "code",
   "execution_count": 9,
   "metadata": {},
   "outputs": [],
   "source": [
    "all_words = toxic_comments['text'].fillna('').apply(word_tokenize).explode()"
   ]
  },
  {
   "cell_type": "code",
   "execution_count": 10,
   "metadata": {},
   "outputs": [],
   "source": [
    "fdist = FreqDist(all_words)"
   ]
  },
  {
   "cell_type": "code",
   "execution_count": 11,
   "metadata": {},
   "outputs": [
    {
     "data": {
      "image/png": "[encoded data removed]",
      "text/plain": [
       "<Figure size 864x432 with 1 Axes>"
      ]
     },
     "metadata": {
      "needs_background": "light"
     },
     "output_type": "display_data"
    }
   ],
   "source": [
    "# Построение графика\n",
    "plt.figure(figsize=(12, 6))\n",
    "plt.title('Топ-20 часто встречающихся слов', fontsize=16)\n",
    "fdist.plot(20,cumulative=False)\n",
    "plt.show()"
   ]
  },
  {
   "cell_type": "code",
   "execution_count": 12,
   "metadata": {},
   "outputs": [
    {
     "data": {
      "text/plain": [
       "[('the', 494380),\n",
       " ('to', 296086),\n",
       " ('of', 223491),\n",
       " ('and', 221711),\n",
       " ('a', 214330),\n",
       " ('you', 204064),\n",
       " ('i', 200148),\n",
       " ('is', 175502),\n",
       " ('that', 153890),\n",
       " ('in', 143840)]"
      ]
     },
     "execution_count": 12,
     "metadata": {},
     "output_type": "execute_result"
    }
   ],
   "source": [
    "fdist.most_common(10)"
   ]
  },
  {
   "cell_type": "markdown",
   "metadata": {},
   "source": [
    "Как видно из данного графика, большинство частовстречающихся слов в этом наборе данных в основном состоит группа из слов, не несущих глубокого смыслового содержания, таких как артикли, предлоги и местоимения. Это подтверждает, что для более глубокого анализа текста полезно исключать такие стоп-слова."
   ]
  },
  {
   "cell_type": "code",
   "execution_count": 13,
   "metadata": {},
   "outputs": [],
   "source": [
    "filtered_words = [word for word in all_words if word not in stopwords]"
   ]
  },
  {
   "cell_type": "code",
   "execution_count": 14,
   "metadata": {},
   "outputs": [],
   "source": [
    "text = nltk.Text(filtered_words)"
   ]
  },
  {
   "cell_type": "code",
   "execution_count": 15,
   "metadata": {},
   "outputs": [
    {
     "data": {
      "text/plain": [
       "[('article', 55336),\n",
       " ('page', 45526),\n",
       " ('wikipedia', 35484),\n",
       " ('talk', 31470),\n",
       " ('please', 29566),\n",
       " ('would', 29154),\n",
       " ('one', 27992),\n",
       " ('like', 27636),\n",
       " ('dont', 26032),\n",
       " ('see', 21440)]"
      ]
     },
     "execution_count": 15,
     "metadata": {},
     "output_type": "execute_result"
    }
   ],
   "source": [
    "fdist_nostop = FreqDist(text)\n",
    "fdist_nostop.most_common(10)"
   ]
  },
  {
   "cell_type": "code",
   "execution_count": 16,
   "metadata": {},
   "outputs": [
    {
     "data": {
      "image/png": "[encoded data removed]",
      "text/plain": [
       "<Figure size 864x432 with 1 Axes>"
      ]
     },
     "metadata": {
      "needs_background": "light"
     },
     "output_type": "display_data"
    }
   ],
   "source": [
    "# Построение графика\n",
    "plt.figure(figsize=(12, 6))\n",
    "plt.title('Топ-20 часто встречающихся слов (без стопслов)', fontsize=16)\n",
    "fdist_nostop.plot(20,cumulative=False)\n",
    "plt.show()"
   ]
  },
  {
   "cell_type": "markdown",
   "metadata": {},
   "source": [
    "Построим облако слов"
   ]
  },
  {
   "cell_type": "code",
   "execution_count": 17,
   "metadata": {},
   "outputs": [],
   "source": [
    "%matplotlib inline\n",
    "filtered_words_clean = [str(word) for word in fdist_nostop if isinstance(word, str)]\n",
    "\n",
    "# Создание текста из слов\n",
    "text_raw = ' '.join(filtered_words_clean)"
   ]
  },
  {
   "cell_type": "code",
   "execution_count": 18,
   "metadata": {},
   "outputs": [],
   "source": [
    "wordcloud = WordCloud().generate(text_raw)"
   ]
  },
  {
   "cell_type": "code",
   "execution_count": 19,
   "metadata": {},
   "outputs": [
    {
     "data": {
      "image/png": "[encoded data removed]",
      "text/plain": [
       "<Figure size 864x432 with 1 Axes>"
      ]
     },
     "metadata": {
      "needs_background": "light"
     },
     "output_type": "display_data"
    }
   ],
   "source": [
    "plt.figure(figsize=(12, 6))\n",
    "plt.imshow(wordcloud, interpolation='bilinear')\n",
    "plt.axis(\"off\")\n",
    "plt.title('Облако слов', fontsize=16)\n",
    "plt.show()"
   ]
  },
  {
   "cell_type": "markdown",
   "metadata": {},
   "source": [
    "Облако слов, представленное на графике, визуализирует наиболее часто встречающиеся слова в тексте. Мы видим, что в основном слова связаны с тематикой Википедии, обсуждениями и просьбами.  Оно помогает выделить основные темы, характер общения и часто употребляемые слова, что может быть полезно для дальнейшего анализа текстовых данных и построения моделей."
   ]
  },
  {
   "cell_type": "markdown",
   "metadata": {},
   "source": [
    "Далее сделам лемматизацию текста для того, чтобы привести текст к более стандартизированной форме, что сделает его более удобным для дальнейшего анализа или построения моделей машинного обучения. Используем WordNetLemmatizer, который позволяет не только привести слова к их базовой форме, но и делать это с учетом контекста, что значительно повышает точность обработки текста, особенно для задач анализа текста и машинного обучения, и обеспечит нас более качественными результатами. Используем POS-тегирование и лемматизацию с учётом части речи (POS) для улучшения качества обработки текста."
   ]
  },
  {
   "cell_type": "code",
   "execution_count": 20,
   "metadata": {},
   "outputs": [],
   "source": [
    "lemmatizer = WordNetLemmatizer()"
   ]
  },
  {
   "cell_type": "code",
   "execution_count": 21,
   "metadata": {},
   "outputs": [],
   "source": [
    "def get_wordnet_pos(word):\n",
    "    tag = pos_tag([word])[0][1][0].upper()\n",
    "    tag_dict = {\n",
    "        'J': wordnet.ADJ,  # Прилагательное\n",
    "        'N': wordnet.NOUN,  # Существительное\n",
    "        'V': wordnet.VERB,  # Глагол\n",
    "        'R': wordnet.ADV,   # Наречие\n",
    "    }\n",
    "    return tag_dict.get(tag, wordnet.NOUN)"
   ]
  },
  {
   "cell_type": "code",
   "execution_count": 22,
   "metadata": {},
   "outputs": [],
   "source": [
    "# Функция для лемматизации с учётом POS-тегов\n",
    "def lemmatize_text_with_pos(text):\n",
    "    # Токенизация текста (разделение на слова)\n",
    "    words = word_tokenize(text)\n",
    "    # Лемматизация каждого слова с учётом его POS-тега\n",
    "    lemmatized_words = [\n",
    "        lemmatizer.lemmatize(word, pos=get_wordnet_pos(word)) for word in words if word.lower() not in stopwords\n",
    "    ]\n",
    "    # Объединение слов обратно в строку\n",
    "    return \" \".join(lemmatized_words)"
   ]
  },
  {
   "cell_type": "code",
   "execution_count": 23,
   "metadata": {},
   "outputs": [
    {
     "data": {
      "application/vnd.jupyter.widget-view+json": {
       "model_id": "1efbb2b2ec194a17853d0aaee62d60cb",
       "version_major": 2,
       "version_minor": 0
      },
      "text/plain": [
       "  0%|          | 0/159292 [00:00<?, ?it/s]"
      ]
     },
     "metadata": {},
     "output_type": "display_data"
    }
   ],
   "source": [
    "# Применяем лемматизацию с учётом POS-тегов\n",
    "toxic_comments['lemmatized_text'] = toxic_comments['text'].progress_apply(lemmatize_text_with_pos)"
   ]
  },
  {
   "cell_type": "code",
   "execution_count": 24,
   "metadata": {},
   "outputs": [
    {
     "name": "stdout",
     "output_type": "stream",
     "text": [
      "                                                text  toxic  \\\n",
      "0  explanation why the edits made under my userna...      0   \n",
      "1  daww he matches this background colour im seem...      0   \n",
      "2  hey man im really not trying to edit war its j...      0   \n",
      "\n",
      "                                     lemmatized_text  \n",
      "0  explanation edits make username hardcore metal...  \n",
      "1  daww match background colour im seemingly stuc...  \n",
      "2  hey man im really try edit war guy constantly ...  \n"
     ]
    }
   ],
   "source": [
    "print(toxic_comments.head(3))"
   ]
  },
  {
   "cell_type": "markdown",
   "metadata": {},
   "source": [
    "Как мы видит, после комбинации POS-тегирования и лемматизации с учётом части речи мы получаем более точные лемматизированные формы слов, что значительно улучшает нашу обработку текста."
   ]
  },
  {
   "cell_type": "markdown",
   "metadata": {},
   "source": [
    "**Итак, в первой части работы** мы загрузили исходный датасет, провели его анализ и выянили, что он содержит почти 160 тыс. записей. Признак text включает тексты твитов для обучения, а toxic — целевой признак для классификации. Лишний столбец Unnamed: 0 был удален, так как он дублирует индекс строк. \n",
    "\n",
    "Проверили наши данные на дубликаты и  проверка показала их отсутствие, а в столбце toxic содержатся лишь уникальные значения 0 и 1. Также мы построили гистограмму для нашей целевой переменной, чтобы увидеть, насколько сбалансированы наши классы и выявили, что  в признаке toxic классы несбалансированы, с существенным перевесом класса 0.\n",
    "\n",
    "В столбце text были выявлены ненужные символы, которые могли бы помешать дальнейшей обработке и обучению. Для улучшения качества анализа текста, эти символы были удалены.\n",
    "\n",
    "Также мы произвели подсчёт статистики встречаемости слов в тексте и построили графики и облако слов. Самые встречающиеся слова это article', 'page', 'wikipedia' и большинство слов связаны с тематикой Википедии, обсуждениями и просьбами.\n",
    "\n",
    "Далее был применен процесс лемматизации с использованием WordNetLemmatizer для приведения слов к их базовой форме, чтобы улучшить точность анализа и моделирования. И после также было проведено POS-тегирование для учета частей речи, что позволило повысить точность лемматизации и улучшить обработку текста.\n",
    "\n",
    "После предобработки данных, включая удаление ненужных символов, лемматизацию с учётом частей речи и подготовку целевого признака, мы готовы к обучению модели. Данные теперь находятся в нужном формате для дальнейшего анализа и построения классификатора для предсказания токсичности твитов.\n",
    "\n",
    "В результате проведенной предобработки данных мы подготовили их для последующего анализа и построения модели для предсказания токсичности твитов. Выполненные шаги гарантируют целостность и качество данных, что создает надежную основу для эффективного анализа и точных предсказаний в дальнейшем."
   ]
  },
  {
   "cell_type": "markdown",
   "metadata": {},
   "source": [
    "## Обучение"
   ]
  },
  {
   "cell_type": "markdown",
   "metadata": {},
   "source": [
    "Для начала разделим выборки на тренировучную и тестовую. Стоблец toxic содержит целевой признак."
   ]
  },
  {
   "cell_type": "code",
   "execution_count": 25,
   "metadata": {},
   "outputs": [],
   "source": [
    "data = toxic_comments.copy()\n",
    "X = data.drop('toxic', axis=1)\n",
    "y = data['toxic']"
   ]
  },
  {
   "cell_type": "code",
   "execution_count": 26,
   "metadata": {},
   "outputs": [],
   "source": [
    "X_train, X_test, y_train, y_test = train_test_split(X, y, test_size=0.25, stratify=y, random_state=RANDOM_STATE)"
   ]
  },
  {
   "cell_type": "markdown",
   "metadata": {},
   "source": [
    "**1. Модель LogisticRegression**"
   ]
  },
  {
   "cell_type": "code",
   "execution_count": 27,
   "metadata": {},
   "outputs": [],
   "source": [
    "X_train_lr = X_train.copy()\n",
    "y_train_lr = y_train.copy()\n",
    "X_test_lr = X_test.copy()\n",
    "y_test_lr = y_test.copy()"
   ]
  },
  {
   "cell_type": "code",
   "execution_count": 28,
   "metadata": {},
   "outputs": [],
   "source": [
    "X_train_lr = X_train_lr['lemmatized_text']\n",
    "X_test_lr = X_test_lr['lemmatized_text']"
   ]
  },
  {
   "cell_type": "markdown",
   "metadata": {},
   "source": [
    "Преобразование текстовых данных в числовые представления произведем с помощью векторизации на основе TF-IDF в pipeline. Это необходимо для подготовки текстовых данных к дальнейшему обучению модели машинного обучения."
   ]
  },
  {
   "cell_type": "code",
   "execution_count": 29,
   "metadata": {},
   "outputs": [],
   "source": [
    "pipe_lr = Pipeline([\n",
    "    ('vect', CountVectorizer(stop_words=stopwords)),\n",
    "    ('tfidf', TfidfTransformer()),\n",
    "    ('model', LogisticRegression(class_weight='balanced', random_state=RANDOM_STATE, solver='liblinear'))\n",
    "])"
   ]
  },
  {
   "cell_type": "code",
   "execution_count": 30,
   "metadata": {},
   "outputs": [
    {
     "name": "stdout",
     "output_type": "stream",
     "text": [
      "\n",
      "Лучшие параметры: {'model__penalty': 'l1', 'model__C': 4}\n",
      "Метрика f1, полученная с помощью кросс валидации: 0.7581902676466654\n"
     ]
    }
   ],
   "source": [
    "# Гиперпараметры для LogisticRegression\n",
    "param_grid_lr = {\n",
    "    'model__penalty' : ['l1', 'l2'],\n",
    "    'model__C': list(range(1,15,3))\n",
    "}\n",
    "\n",
    "random_search_lr = RandomizedSearchCV(\n",
    "    pipe_lr, \n",
    "    param_distributions=param_grid_lr, \n",
    "    cv=5,\n",
    "    scoring='f1', \n",
    "    random_state=RANDOM_STATE,\n",
    "    n_iter=8,\n",
    "    n_jobs=-1\n",
    ")\n",
    "\n",
    "random_search_lr.fit(X_train_lr, y_train_lr)\n",
    "\n",
    "lr_params = random_search_lr.best_params_\n",
    "\n",
    "# Вывод лучших параметров и значения метрики\n",
    "print()\n",
    "print(\"Лучшие параметры:\", lr_params)\n",
    "print(\"Метрика f1, полученная с помощью кросс валидации:\", (random_search_lr.best_score_))"
   ]
  },
  {
   "cell_type": "code",
   "execution_count": 31,
   "metadata": {},
   "outputs": [
    {
     "name": "stdout",
     "output_type": "stream",
     "text": [
      "Время обучения модели LogisticRegression на тренировочной выборке: 9.54 секунд\n",
      "CPU times: user 9.22 s, sys: 58.3 ms, total: 9.28 s\n",
      "Wall time: 9.54 s\n"
     ]
    }
   ],
   "source": [
    "%%time\n",
    "# Засекаем время обучения модели на всей тренировочной выборке с лучшими параметрами\n",
    "start = time.time()\n",
    "\n",
    "# Создаем переменную с моделью с лучшими параметрами\n",
    "lr_model = random_search_lr.best_estimator_\n",
    "\n",
    "lr_model.fit(X_train_lr, y_train_lr)\n",
    "\n",
    "# Время обучения\n",
    "end = time.time()\n",
    "time_lr_fit =end-start\n",
    "print(f\"Время обучения модели LogisticRegression на тренировочной выборке: {time_lr_fit:.2f} секунд\")"
   ]
  },
  {
   "cell_type": "code",
   "execution_count": 32,
   "metadata": {},
   "outputs": [
    {
     "name": "stdout",
     "output_type": "stream",
     "text": [
      "Время предсказания модели LogisticRegression: 1.56 секунд\n",
      "CPU times: user 1.52 s, sys: 30.5 ms, total: 1.55 s\n",
      "Wall time: 1.56 s\n"
     ]
    }
   ],
   "source": [
    "%%time\n",
    "# Время предсказания модели LogisticRegression\n",
    "start_time = time.time()\n",
    "y_pred_lr = lr_model.predict(X_test_lr)\n",
    "end_time = time.time()\n",
    "prediction_time_lr = end_time - start_time\n",
    "print(f\"Время предсказания модели LogisticRegression: {prediction_time_lr:.2f} секунд\")"
   ]
  },
  {
   "cell_type": "markdown",
   "metadata": {},
   "source": [
    "Мы провели обучение модели LogisticRegression с использованием оптимальных гиперпараметров: penalty установлен в 'l1', а C составляет 4. Качество модели на кросс-валидации: 0.76 (метрика f1). Время обучения модели на тренировочной выборке составило несколько секунд, что соответствует обычным временным затратам для данной модели. Время предсказания также оказалось минимальным, что подтверждает быструю работу модели. Эти результаты потом используем для сравнения с другими моделями."
   ]
  },
  {
   "cell_type": "markdown",
   "metadata": {},
   "source": [
    "Теперь также посмотрим, какие слова являются наиболее важными для классификации модели логистической регрессии. "
   ]
  },
  {
   "cell_type": "code",
   "execution_count": 33,
   "metadata": {},
   "outputs": [],
   "source": [
    "# список слов\n",
    "feature_names = random_search_lr.best_estimator_.named_steps['vect'].get_feature_names_out()\n",
    "# коэффициенты важности (для логистической регрессии)\n",
    "coefficients = random_search_lr.best_estimator_.named_steps['model'].coef_.tolist()[0]"
   ]
  },
  {
   "cell_type": "code",
   "execution_count": 34,
   "metadata": {},
   "outputs": [],
   "source": [
    "# Создаем DataFrame с коэффициентами и словами\n",
    "importance_df = pd.DataFrame({\n",
    "    'word': feature_names,\n",
    "    'importance': coefficients\n",
    "})"
   ]
  },
  {
   "cell_type": "code",
   "execution_count": 35,
   "metadata": {},
   "outputs": [
    {
     "data": {
      "text/html": [
       "<div>\n",
       "<style scoped>\n",
       "    .dataframe tbody tr th:only-of-type {\n",
       "        vertical-align: middle;\n",
       "    }\n",
       "\n",
       "    .dataframe tbody tr th {\n",
       "        vertical-align: top;\n",
       "    }\n",
       "\n",
       "    .dataframe thead th {\n",
       "        text-align: right;\n",
       "    }\n",
       "</style>\n",
       "<table border=\"1\" class=\"dataframe\">\n",
       "  <thead>\n",
       "    <tr style=\"text-align: right;\">\n",
       "      <th></th>\n",
       "      <th>word</th>\n",
       "      <th>importance</th>\n",
       "    </tr>\n",
       "  </thead>\n",
       "  <tbody>\n",
       "    <tr>\n",
       "      <th>52250</th>\n",
       "      <td>fuck</td>\n",
       "      <td>69.591459</td>\n",
       "    </tr>\n",
       "    <tr>\n",
       "      <th>15830</th>\n",
       "      <td>bitch</td>\n",
       "      <td>38.863942</td>\n",
       "    </tr>\n",
       "    <tr>\n",
       "      <th>47208</th>\n",
       "      <td>faggot</td>\n",
       "      <td>35.021960</td>\n",
       "    </tr>\n",
       "    <tr>\n",
       "      <th>9762</th>\n",
       "      <td>asshole</td>\n",
       "      <td>34.937594</td>\n",
       "    </tr>\n",
       "    <tr>\n",
       "      <th>129657</th>\n",
       "      <td>shit</td>\n",
       "      <td>34.479145</td>\n",
       "    </tr>\n",
       "  </tbody>\n",
       "</table>\n",
       "</div>"
      ],
      "text/plain": [
       "           word  importance\n",
       "52250      fuck   69.591459\n",
       "15830     bitch   38.863942\n",
       "47208    faggot   35.021960\n",
       "9762    asshole   34.937594\n",
       "129657     shit   34.479145"
      ]
     },
     "metadata": {},
     "output_type": "display_data"
    }
   ],
   "source": [
    "# Сортируем по важности\n",
    "importance_df = importance_df.sort_values(by='importance', ascending=False)\n",
    "top_words = importance_df.head(20)\n",
    "display(top_words.head(5))"
   ]
  },
  {
   "cell_type": "markdown",
   "metadata": {},
   "source": [
    "Мы нашли слова оказывающие большое влияние на предсказания модели, то есть модель считает эти слова важными при принятии решения о классификации текста. Судя по выводимым результатам, в данном наборе данных для модели было выделено слово \"fuck\", как наиболее важное для классификации, с высоким коэффициентом важности. Теперь, построим график для большей наглядности."
   ]
  },
  {
   "cell_type": "code",
   "execution_count": 36,
   "metadata": {},
   "outputs": [
    {
     "data": {
      "image/png": "[encoded data removed]",
      "text/plain": [
       "<Figure size 720x576 with 1 Axes>"
      ]
     },
     "metadata": {
      "needs_background": "light"
     },
     "output_type": "display_data"
    }
   ],
   "source": [
    "plt.figure(figsize=(10, 8))\n",
    "sns.barplot(x='importance', y='word', data=top_words, palette='plasma')\n",
    "plt.title('Топ-20 самых важных слов для классификации')\n",
    "plt.xlabel('Важность (коэффициент)')\n",
    "plt.ylabel('Слово')\n",
    "plt.show()"
   ]
  },
  {
   "cell_type": "markdown",
   "metadata": {},
   "source": [
    "**2. Модель DecisionTreeClassifier**"
   ]
  },
  {
   "cell_type": "code",
   "execution_count": 37,
   "metadata": {},
   "outputs": [],
   "source": [
    "X_train_dt = X_train.copy()\n",
    "y_train_dt = y_train.copy()\n",
    "X_test_dt = X_test.copy()\n",
    "y_test_dt = y_test.copy()"
   ]
  },
  {
   "cell_type": "code",
   "execution_count": 38,
   "metadata": {},
   "outputs": [],
   "source": [
    "X_train_dt = X_train_dt['lemmatized_text']\n",
    "X_test_dt = X_test_dt['lemmatized_text']"
   ]
  },
  {
   "cell_type": "code",
   "execution_count": 39,
   "metadata": {},
   "outputs": [],
   "source": [
    "pipe_dt = Pipeline([\n",
    "    ('vect', CountVectorizer(stop_words=stopwords)),\n",
    "    ('tfidf', TfidfTransformer()),\n",
    "    ('model', DecisionTreeClassifier(random_state=RANDOM_STATE, class_weight='balanced'))\n",
    "])"
   ]
  },
  {
   "cell_type": "code",
   "execution_count": 40,
   "metadata": {},
   "outputs": [
    {
     "name": "stdout",
     "output_type": "stream",
     "text": [
      "\n",
      "Лучшие параметры: {'model__min_samples_split': 10, 'model__min_samples_leaf': 2, 'model__max_depth': 30}\n",
      "Метрика f1, полученная с помощью кросс валидации: 0.6136535121941346\n"
     ]
    }
   ],
   "source": [
    "# Гиперпараметры для DecisionTreeClassifier\n",
    "param_grid_dt = {\n",
    "    'model__max_depth': [10, 15, 20, 30],\n",
    "    'model__min_samples_split': [5, 10],\n",
    "    'model__min_samples_leaf': [2, 5],\n",
    "}\n",
    "\n",
    "random_search_dt = RandomizedSearchCV(\n",
    "    pipe_dt, \n",
    "    param_distributions=param_grid_dt, \n",
    "    scoring='f1',  \n",
    "    random_state=RANDOM_STATE, \n",
    "    n_iter=5, \n",
    "    cv=3,  \n",
    "    n_jobs=-1 \n",
    ")\n",
    "\n",
    "random_search_dt.fit(X_train_dt, y_train_dt)\n",
    "\n",
    "dt_params = random_search_dt.best_params_\n",
    "\n",
    "print()\n",
    "print(\"Лучшие параметры:\", dt_params)\n",
    "print(\"Метрика f1, полученная с помощью кросс валидации:\", random_search_dt.best_score_)"
   ]
  },
  {
   "cell_type": "code",
   "execution_count": 41,
   "metadata": {},
   "outputs": [
    {
     "name": "stdout",
     "output_type": "stream",
     "text": [
      "Время обучения модели DecisionTreeClassifier на тренировочной выборке: 35.89 секунд\n",
      "CPU times: user 35.7 s, sys: 177 ms, total: 35.9 s\n",
      "Wall time: 35.9 s\n"
     ]
    }
   ],
   "source": [
    "%%time\n",
    "# Засекаем время обучения модели на всей тренировочной выборке с лучшими параметрами\n",
    "start = time.time()\n",
    "\n",
    "# Создаем переменную с моделью с лучшими параметрами\n",
    "dt_model = random_search_dt.best_estimator_\n",
    "\n",
    "dt_model.fit(X_train_dt, y_train_dt)\n",
    "\n",
    "# Время обучения\n",
    "end = time.time()\n",
    "time_dt_fit =end-start\n",
    "print(f\"Время обучения модели DecisionTreeClassifier на тренировочной выборке: {time_dt_fit:.2f} секунд\")"
   ]
  },
  {
   "cell_type": "code",
   "execution_count": 42,
   "metadata": {},
   "outputs": [
    {
     "name": "stdout",
     "output_type": "stream",
     "text": [
      "Время предсказания модели DecisionTreeClassifier: 1.37 секунд\n",
      "CPU times: user 1.36 s, sys: 2.42 ms, total: 1.36 s\n",
      "Wall time: 1.37 s\n"
     ]
    }
   ],
   "source": [
    "%%time\n",
    "# Время предсказания модели DecisionTreeClassifier\n",
    "start_time = time.time()\n",
    "y_pred_dt = dt_model.predict(X_test_dt)\n",
    "end_time = time.time()\n",
    "prediction_time_dt = end_time - start_time\n",
    "print(f\"Время предсказания модели DecisionTreeClassifier: {prediction_time_dt:.2f} секунд\")"
   ]
  },
  {
   "cell_type": "markdown",
   "metadata": {},
   "source": [
    "Мы провели обучение модели DecisionTreeClassifier с использованием оптимальных гиперпараметров: min_samples_split установлен на 10, min_samples_leaf равен 2, а max_depth составляет 30. Качество модели на кросс-валидации: 0.61 (метрика f1). Время обучения модели на тренировочной выборке составило несколько секунд, но немного больше, чем у предыдущей модели, и время предсказания оказалось быстрым, что подтверждает быстродействие модели. Эти результаты будем использовать для дальнейшего сравнения с другими моделями."
   ]
  },
  {
   "cell_type": "markdown",
   "metadata": {},
   "source": [
    "**3. Модель RandomForestClassifier**"
   ]
  },
  {
   "cell_type": "code",
   "execution_count": 43,
   "metadata": {},
   "outputs": [],
   "source": [
    "X_train_rf = X_train.copy()\n",
    "y_train_rf = y_train.copy()\n",
    "X_test_rf = X_test.copy()\n",
    "y_test_rf = y_test.copy()"
   ]
  },
  {
   "cell_type": "code",
   "execution_count": 44,
   "metadata": {},
   "outputs": [],
   "source": [
    "X_train_rf = X_train_rf['lemmatized_text']\n",
    "X_test_rf = X_test_rf['lemmatized_text']"
   ]
  },
  {
   "cell_type": "code",
   "execution_count": 45,
   "metadata": {},
   "outputs": [],
   "source": [
    "pipe_rf = Pipeline([\n",
    "    ('vect', CountVectorizer(stop_words=stopwords)),\n",
    "    ('tfidf', TfidfTransformer()),\n",
    "    ('model', RandomForestClassifier(random_state=RANDOM_STATE, class_weight='balanced'))\n",
    "])"
   ]
  },
  {
   "cell_type": "code",
   "execution_count": 46,
   "metadata": {},
   "outputs": [
    {
     "name": "stdout",
     "output_type": "stream",
     "text": [
      "\n",
      "Лучшие параметры: {'model__n_estimators': 200, 'model__max_depth': 20}\n",
      "Метрика f1, полученная с помощью кросс валидации: 0.40064724647133515\n"
     ]
    }
   ],
   "source": [
    "# Гиперпараметры для RandomForestClassifier\n",
    "param_grid_rf = {\n",
    "    'model__max_depth': [10, 15, 20], \n",
    "    'model__n_estimators': list(range(50, 300, 50)) \n",
    "                                }\n",
    "\n",
    "random_search_rf = RandomizedSearchCV(\n",
    "    pipe_rf, \n",
    "    param_distributions=param_grid_rf, \n",
    "    scoring='f1',\n",
    "    random_state=RANDOM_STATE,\n",
    "    n_iter=5,  \n",
    "    cv=3, \n",
    "    n_jobs=-1  \n",
    ")\n",
    "\n",
    "random_search_rf.fit(X_train_rf, y_train_rf)\n",
    "\n",
    "rf_params = random_search_rf.best_params_\n",
    "\n",
    "# Вывод лучших параметров и значения метрики\n",
    "print()\n",
    "print(\"Лучшие параметры:\", rf_params)\n",
    "print(\"Метрика f1, полученная с помощью кросс валидации:\", random_search_rf.best_score_)"
   ]
  },
  {
   "cell_type": "code",
   "execution_count": 47,
   "metadata": {},
   "outputs": [
    {
     "name": "stdout",
     "output_type": "stream",
     "text": [
      "Время обучения модели RandomForestClassifier на тренировочной выборке: 34.29 секунд\n",
      "CPU times: user 33.9 s, sys: 99.6 ms, total: 34 s\n",
      "Wall time: 34.3 s\n"
     ]
    }
   ],
   "source": [
    "%%time\n",
    "# Засекаем время обучения модели на всей тренировочной выборке с лучшими параметрами\n",
    "start = time.time()\n",
    "\n",
    "# Создаем переменную с моделью с лучшими параметрами\n",
    "rf_model = random_search_rf.best_estimator_\n",
    "\n",
    "rf_model.fit(X_train_rf, y_train_rf)\n",
    "\n",
    "# Время обучения\n",
    "end = time.time()\n",
    "time_rf_fit =end-start\n",
    "print(f\"Время обучения модели RandomForestClassifier на тренировочной выборке: {time_rf_fit:.2f} секунд\")"
   ]
  },
  {
   "cell_type": "code",
   "execution_count": 48,
   "metadata": {},
   "outputs": [
    {
     "name": "stdout",
     "output_type": "stream",
     "text": [
      "Время предсказания модели RandomForestClassifier: 3.05 секунд\n",
      "CPU times: user 3.04 s, sys: 7.61 ms, total: 3.05 s\n",
      "Wall time: 3.05 s\n"
     ]
    }
   ],
   "source": [
    "%%time\n",
    "# Время предсказания модели RandomForestClassifier\n",
    "start_time = time.time()\n",
    "y_pred_rf = rf_model.predict(X_test_rf)\n",
    "end_time = time.time()\n",
    "prediction_time_rf = end_time - start_time\n",
    "print(f\"Время предсказания модели RandomForestClassifier: {prediction_time_rf:.2f} секунд\")"
   ]
  },
  {
   "cell_type": "markdown",
   "metadata": {},
   "source": [
    "Мы провели обучение модели RandomForestClassifier с использованием оптимальных гиперпараметров: количество деревьев в лесу (n_estimators) установлено на уровне 200, а максимальная глубина деревьев (max_depth) составляет 20. Качество модели на кросс-валидации: 0.40 (метрика f1). Время обучения модели на тренировочной выборке составило несколько секунд, а время предсказания оказалось вполне приемлемым для данной модели. Эти результаты затем будут использоваться для сравнения с другими моделями."
   ]
  },
  {
   "cell_type": "markdown",
   "metadata": {},
   "source": [
    "**Итак, во второй части работы** мы обучили несколько моделей машинного обучения, проведя подбор и настройку гиперпараметров с использованием кросс-валидации для оценки качества моделей. Были рассмотрены модели LogisticRegression, DecisionTreeClassifier и RandomForestClassifier. \n",
    "\n",
    "В пайплайн была добавлена обработка с использованием TF-IDF, что позволило избежать утечки данных и обеспечило корректную векторизацию текстов без учета информации из тестовой выборки. Мы также проанализировали важность слов для классификации с точки зрения модели логистической регрессии. Это позволило нам выявить, какие слова оказывают наибольшее влияние на предсказания модели. Среди наиболее значимых слов было выделено слово \"fuck\", которое имеет высокий коэффициент важности, что говорит о его сильном влиянии на классификацию текста. И потом построили график важности слов.\n",
    "\n",
    "Далее мы измерили время обучения на тренировочной выборке и время предсказания на тестовой выборке. Результаты будем использовать дальше при сравнении моделей и выбора наиболее подходящей их них."
   ]
  },
  {
   "cell_type": "markdown",
   "metadata": {},
   "source": [
    "## Оценка качества моделей"
   ]
  },
  {
   "cell_type": "markdown",
   "metadata": {},
   "source": [
    "Составим таблицу, отражающую все найденные результаты "
   ]
  },
  {
   "cell_type": "code",
   "execution_count": 49,
   "metadata": {},
   "outputs": [],
   "source": [
    "lr_f1_train = random_search_lr.best_score_\n",
    "dt_f1_train = random_search_dt.best_score_\n",
    "rf_f1_train = random_search_rf.best_score_"
   ]
  },
  {
   "cell_type": "code",
   "execution_count": 50,
   "metadata": {},
   "outputs": [
    {
     "data": {
      "text/html": [
       "<div>\n",
       "<style scoped>\n",
       "    .dataframe tbody tr th:only-of-type {\n",
       "        vertical-align: middle;\n",
       "    }\n",
       "\n",
       "    .dataframe tbody tr th {\n",
       "        vertical-align: top;\n",
       "    }\n",
       "\n",
       "    .dataframe thead th {\n",
       "        text-align: right;\n",
       "    }\n",
       "</style>\n",
       "<table border=\"1\" class=\"dataframe\">\n",
       "  <thead>\n",
       "    <tr style=\"text-align: right;\">\n",
       "      <th></th>\n",
       "      <th>Модель</th>\n",
       "      <th>F1</th>\n",
       "      <th>Время предсказания (сек)</th>\n",
       "      <th>Время обучения (сек)</th>\n",
       "    </tr>\n",
       "  </thead>\n",
       "  <tbody>\n",
       "    <tr>\n",
       "      <th>0</th>\n",
       "      <td>LogisticRegression</td>\n",
       "      <td>0.758190</td>\n",
       "      <td>1.556964</td>\n",
       "      <td>9.538763</td>\n",
       "    </tr>\n",
       "    <tr>\n",
       "      <th>1</th>\n",
       "      <td>DecisionTreeClassifier</td>\n",
       "      <td>0.613654</td>\n",
       "      <td>1.371718</td>\n",
       "      <td>35.894492</td>\n",
       "    </tr>\n",
       "    <tr>\n",
       "      <th>2</th>\n",
       "      <td>RandomForestClassifier</td>\n",
       "      <td>0.400647</td>\n",
       "      <td>3.053534</td>\n",
       "      <td>34.286217</td>\n",
       "    </tr>\n",
       "  </tbody>\n",
       "</table>\n",
       "</div>"
      ],
      "text/plain": [
       "                   Модель        F1  Время предсказания (сек)  \\\n",
       "0      LogisticRegression  0.758190                  1.556964   \n",
       "1  DecisionTreeClassifier  0.613654                  1.371718   \n",
       "2  RandomForestClassifier  0.400647                  3.053534   \n",
       "\n",
       "   Время обучения (сек)  \n",
       "0              9.538763  \n",
       "1             35.894492  \n",
       "2             34.286217  "
      ]
     },
     "execution_count": 50,
     "metadata": {},
     "output_type": "execute_result"
    }
   ],
   "source": [
    "# Создание DataFrame с нашими результатами\n",
    "results = pd.DataFrame({\n",
    "    'Модель': ['LogisticRegression', 'DecisionTreeClassifier', 'RandomForestClassifier'],\n",
    "    'F1': [lr_f1_train, dt_f1_train, rf_f1_train],\n",
    "    'Время предсказания (сек)': [prediction_time_lr, prediction_time_dt, prediction_time_rf],\n",
    "    'Время обучения (сек)': [time_lr_fit, time_dt_fit, time_rf_fit]  \n",
    "})\n",
    "\n",
    "# Вывод результатов\n",
    "results"
   ]
  },
  {
   "cell_type": "markdown",
   "metadata": {},
   "source": [
    "LogisticRegression с гиперпараметрами penalty='l1' и C=4 показала лучший результат по метрике F1 — 0.76. Время обучения составило несколько секунд, а время предсказания было минимальным, что делает эту модель самой быстрой в тестировании. Этот результат показывает высокое качество модели при относительно малых затратах времени на обучение и предсказание.\n",
    "\n",
    "DecisionTreeClassifier с гиперпараметрами min_samples_split=10, min_samples_leaf=2 и max_depth=30 показала метрику F1 0.61. Хотя время обучения немного больше, чем у LogisticRegression, время предсказания оставалось быстрым. Однако, по метрике F1 модель уступает LogisticRegression.\n",
    "\n",
    "RandomForestClassifier с гиперпараметрами n_estimators=200 и max_depth=20 показала наименьшую метрику F1 — 0.40, что делает её наименее эффективной по сравнению с другими моделями. Время обучения и предсказания составило примерно столько же сколько и у DecisionTreeClassifier, а по качеству модели она значительно уступает.\n",
    "\n",
    "На основании метрики F1, которая для LogisticRegression составила примерно 0.76, эта модель показывает лучший результат среди рассмотренных. Поэтому LogisticRegression является наилучшей моделью для текущей задачи, удовлетворяя требованию F1 не ниже 0.75."
   ]
  },
  {
   "cell_type": "markdown",
   "metadata": {},
   "source": [
    "Найдем значение F1 на тестовой выборке для модели LogisticRegression:"
   ]
  },
  {
   "cell_type": "code",
   "execution_count": 51,
   "metadata": {},
   "outputs": [
    {
     "name": "stdout",
     "output_type": "stream",
     "text": [
      "F1 на тестовой выборке для модели LogisticRegression: 0.76\n"
     ]
    }
   ],
   "source": [
    "# Оценка качества модели LogisticRegression на тестовой выборке\n",
    "f1_test_lr = f1_score(y_test_lr, y_pred_lr)\n",
    "print(\"F1 на тестовой выборке для модели LogisticRegression: %.2f\" % f1_test_lr)"
   ]
  },
  {
   "cell_type": "markdown",
   "metadata": {},
   "source": [
    "Значение F1 на тестовой выборке для модели LogisticRegression составило 0.76. Это хороший результат, который указывает на сбалансированное сочетание точности и полноты предсказаний модели."
   ]
  },
  {
   "cell_type": "markdown",
   "metadata": {},
   "source": [
    "**Итак, в 3 шаге нашей работы** мы провели оценку качества моделей, чтобы выбрать наилучший вариант для нашей задачи. Были протестированы три модели: LogisticRegression, DecisionTreeClassifier, и RandomForestClassifier. Мы рассчитали ключевые метрики качества (F1) и сравнили их по времени обучения и времени предсказания.\n",
    "\n",
    "Мы составили таблицу результатов, где представлены метрики F1, а также время, затраченное на обучение и предсказание для каждой модели. Это позволяет визуально и количественно сравнить производительность алгоритмов.\n",
    "\n",
    "LogisticRegression показала лучший результат по метрике F1 (0.76) и продемонстрировала минимальное время обучения и предсказания. Она удовлетворяет требованию F1 ≥ 0.75.\n",
    "DecisionTreeClassifier с F1 = 0.61 уступает LogisticRegression, хотя остаётся приемлемой по времени предсказания.\n",
    "RandomForestClassifier продемонстрировала наихудшую метрику F1 (0.40) и большое время выполнения, что делает её наименее подходящей для задачи.\n",
    "\n",
    "Поэтому наилучшим вариантом для задачи выбрана LogisticRegression, так как она сочетает высокую метрику F1 с минимальными затратами времени. Модель успешно протестирована на тестовой выборке, где её F1 составила 0.76, что подтверждает её качество."
   ]
  },
  {
   "cell_type": "markdown",
   "metadata": {},
   "source": [
    "## Выводы"
   ]
  },
  {
   "cell_type": "markdown",
   "metadata": {},
   "source": [
    "В ходе работы была решена задача предсказания токсичности твитов. Мы прошли три основных этапа: предобработка данных, обучение моделей и оценка их качества.\n",
    "\n",
    "Была произведена предобработка данных: Для начала мы провели анализ исходного датасета, удалили ненужные столбцы, проверили данные на дубликаты и убедились в уникальности значений целевого признака. Построили гистограмму для нашей целевой переменной toxic, где заметили, что наши классы несбалансированы, с существенным перевесом класса 0.\n",
    "Произвели подсчёт статистики встречаемости слов в тексте и построили графики и облако слов. Из столбца с текстом твитов удалили лишние символы, которые могли помешать дальнейшему анализу. Выполнили лемматизацию текста с учётом POS-тегов, что позволило улучшить точность обработки текста и создать качественное представление данных для обучения моделей.\n",
    "\n",
    "Потом мы приступили к обучению моделей: Сначала преобразовали текстовых данных в числовые использовав TF-IDF векторизацию.Потом провели настройку гиперпараметров моделей LogisticRegression, DecisionTreeClassifier и RandomForestClassifier с использованием кросс-валидации. Измерили время обучения и предсказания для каждой модели, чтобы учитывать их эффективность по скорости работы. Ктоме того, мы нашли слова оказывающие большое влияние на предсказания модели LogisticRegression и построили график.\n",
    "\n",
    "И далее произвели оценку качества моделей: Мы построили таблицу результатов, сравнив модели по метрике F1, времени обучения и предсказания. LogisticRegression продемонстрировала лучший результат: F1 = 0.76 при минимальном времени обучения и предсказания. Она удовлетворяет поставленному требованию F1 ≥ 0.75. DecisionTreeClassifier показала F1 = 0.61, но уступила LogisticRegression как по точности, так и по скорости работы. RandomForestClassifier оказалась наименее эффективной с F1 = 0.40 и большими затратами времени.\n",
    "\n",
    "Наилучшей моделью для задачи была выбрана LogisticRegression, так как она продемонстрировала сбалансированное сочетание высокой точности, минимального времени обучения и предсказания. Эта модель успешно прошла тестирование, подтвердив свою эффективность для предсказания токсичности твитов.\n",
    "\n",
    "Проделанная работа позволила создать качественную модель для анализа текстов. Она может быть использована для фильтрации токсичного контента в социальных сетях, что может существенно улучшить пользовательский опыт и снизить уровень негативного воздействия на платформе."
   ]
  }
 ],
 "metadata": {
  "ExecuteTimeLog": [
   {
    "duration": 9821,
    "start_time": "2024-11-19T11:43:16.991Z"
   },
   {
    "duration": 213,
    "start_time": "2024-11-19T11:43:26.814Z"
   },
   {
    "duration": 0,
    "start_time": "2024-11-19T11:43:27.030Z"
   },
   {
    "duration": 2776,
    "start_time": "2024-11-19T11:47:54.505Z"
   },
   {
    "duration": 88,
    "start_time": "2024-11-19T11:47:57.283Z"
   },
   {
    "duration": 0,
    "start_time": "2024-11-19T11:47:57.373Z"
   },
   {
    "duration": 2850,
    "start_time": "2024-11-19T11:49:24.420Z"
   },
   {
    "duration": 1344,
    "start_time": "2024-11-19T11:49:27.272Z"
   },
   {
    "duration": 53,
    "start_time": "2024-11-19T11:49:28.617Z"
   },
   {
    "duration": 12,
    "start_time": "2024-11-19T11:53:55.563Z"
   },
   {
    "duration": 242,
    "start_time": "2024-11-19T11:55:21.351Z"
   },
   {
    "duration": 67,
    "start_time": "2024-11-19T11:58:45.259Z"
   },
   {
    "duration": 5,
    "start_time": "2024-11-19T11:59:07.963Z"
   },
   {
    "duration": 426,
    "start_time": "2024-11-19T12:30:46.752Z"
   },
   {
    "duration": 5835,
    "start_time": "2024-11-19T12:31:46.293Z"
   },
   {
    "duration": 946,
    "start_time": "2024-11-19T12:31:52.130Z"
   },
   {
    "duration": 47,
    "start_time": "2024-11-19T12:31:53.078Z"
   },
   {
    "duration": 13,
    "start_time": "2024-11-19T12:31:53.127Z"
   },
   {
    "duration": 248,
    "start_time": "2024-11-19T12:31:53.141Z"
   },
   {
    "duration": 4,
    "start_time": "2024-11-19T12:31:53.391Z"
   },
   {
    "duration": 1537,
    "start_time": "2024-11-19T12:31:53.397Z"
   },
   {
    "duration": 251,
    "start_time": "2024-11-19T12:31:54.936Z"
   },
   {
    "duration": 0,
    "start_time": "2024-11-19T12:31:55.189Z"
   },
   {
    "duration": 0,
    "start_time": "2024-11-19T12:31:55.191Z"
   },
   {
    "duration": 763,
    "start_time": "2024-11-19T12:32:11.751Z"
   },
   {
    "duration": 1445,
    "start_time": "2024-11-19T12:32:37.031Z"
   },
   {
    "duration": 1407,
    "start_time": "2024-11-19T12:33:02.411Z"
   },
   {
    "duration": 1391,
    "start_time": "2024-11-19T12:33:12.175Z"
   },
   {
    "duration": 2903,
    "start_time": "2024-11-19T12:35:39.768Z"
   },
   {
    "duration": 1991,
    "start_time": "2024-11-19T12:36:24.152Z"
   },
   {
    "duration": 5417,
    "start_time": "2024-11-19T12:37:01.847Z"
   },
   {
    "duration": 2651,
    "start_time": "2024-11-19T12:37:51.380Z"
   },
   {
    "duration": 954,
    "start_time": "2024-11-19T12:37:54.035Z"
   },
   {
    "duration": 49,
    "start_time": "2024-11-19T12:37:54.990Z"
   },
   {
    "duration": 15,
    "start_time": "2024-11-19T12:37:55.041Z"
   },
   {
    "duration": 263,
    "start_time": "2024-11-19T12:37:55.059Z"
   },
   {
    "duration": 4,
    "start_time": "2024-11-19T12:37:55.323Z"
   },
   {
    "duration": 5665,
    "start_time": "2024-11-19T12:37:55.328Z"
   },
   {
    "duration": 37,
    "start_time": "2024-11-19T12:38:00.995Z"
   },
   {
    "duration": 0,
    "start_time": "2024-11-19T12:38:01.034Z"
   },
   {
    "duration": 0,
    "start_time": "2024-11-19T12:38:01.035Z"
   },
   {
    "duration": 7679,
    "start_time": "2024-11-19T12:39:11.698Z"
   },
   {
    "duration": 7718,
    "start_time": "2024-11-19T12:40:57.286Z"
   },
   {
    "duration": 2861,
    "start_time": "2024-11-19T13:04:43.186Z"
   },
   {
    "duration": 85,
    "start_time": "2024-11-19T13:05:10.406Z"
   },
   {
    "duration": 0,
    "start_time": "2024-11-19T13:05:10.492Z"
   },
   {
    "duration": 0,
    "start_time": "2024-11-19T13:05:10.493Z"
   },
   {
    "duration": 0,
    "start_time": "2024-11-19T13:05:10.494Z"
   },
   {
    "duration": 0,
    "start_time": "2024-11-19T13:05:10.495Z"
   },
   {
    "duration": 0,
    "start_time": "2024-11-19T13:05:10.497Z"
   },
   {
    "duration": 0,
    "start_time": "2024-11-19T13:05:10.498Z"
   },
   {
    "duration": 0,
    "start_time": "2024-11-19T13:05:10.499Z"
   },
   {
    "duration": 0,
    "start_time": "2024-11-19T13:05:10.500Z"
   },
   {
    "duration": 0,
    "start_time": "2024-11-19T13:05:10.501Z"
   },
   {
    "duration": 6320,
    "start_time": "2024-11-19T13:08:28.838Z"
   },
   {
    "duration": 974,
    "start_time": "2024-11-19T13:08:35.162Z"
   },
   {
    "duration": 41,
    "start_time": "2024-11-19T13:08:36.138Z"
   },
   {
    "duration": 17,
    "start_time": "2024-11-19T13:08:36.181Z"
   },
   {
    "duration": 264,
    "start_time": "2024-11-19T13:08:36.200Z"
   },
   {
    "duration": 5,
    "start_time": "2024-11-19T13:08:36.466Z"
   },
   {
    "duration": 8654,
    "start_time": "2024-11-19T13:08:36.473Z"
   },
   {
    "duration": 53,
    "start_time": "2024-11-19T13:15:09.382Z"
   },
   {
    "duration": 11447,
    "start_time": "2024-11-19T13:15:44.177Z"
   },
   {
    "duration": 1293,
    "start_time": "2024-11-19T13:15:55.626Z"
   },
   {
    "duration": 46,
    "start_time": "2024-11-19T13:15:56.921Z"
   },
   {
    "duration": 13,
    "start_time": "2024-11-19T13:15:56.969Z"
   },
   {
    "duration": 255,
    "start_time": "2024-11-19T13:15:56.984Z"
   },
   {
    "duration": 4,
    "start_time": "2024-11-19T13:15:57.241Z"
   },
   {
    "duration": 8599,
    "start_time": "2024-11-19T13:15:57.247Z"
   },
   {
    "duration": 10921,
    "start_time": "2024-11-19T13:38:18.484Z"
   },
   {
    "duration": 952,
    "start_time": "2024-11-19T13:38:29.407Z"
   },
   {
    "duration": 45,
    "start_time": "2024-11-19T13:38:30.361Z"
   },
   {
    "duration": 13,
    "start_time": "2024-11-19T13:38:30.420Z"
   },
   {
    "duration": 262,
    "start_time": "2024-11-19T13:38:30.434Z"
   },
   {
    "duration": 5,
    "start_time": "2024-11-19T13:38:30.697Z"
   },
   {
    "duration": 8616,
    "start_time": "2024-11-19T13:38:30.704Z"
   },
   {
    "duration": 8,
    "start_time": "2024-11-19T13:38:39.322Z"
   },
   {
    "duration": 10,
    "start_time": "2024-11-19T13:38:39.332Z"
   },
   {
    "duration": 86267,
    "start_time": "2024-11-19T13:38:39.345Z"
   },
   {
    "duration": 6,
    "start_time": "2024-11-19T13:40:05.614Z"
   },
   {
    "duration": 10578,
    "start_time": "2024-11-19T13:53:25.551Z"
   },
   {
    "duration": 959,
    "start_time": "2024-11-19T13:53:36.131Z"
   },
   {
    "duration": 50,
    "start_time": "2024-11-19T13:53:37.092Z"
   },
   {
    "duration": 13,
    "start_time": "2024-11-19T13:53:37.144Z"
   },
   {
    "duration": 248,
    "start_time": "2024-11-19T13:53:37.159Z"
   },
   {
    "duration": 14,
    "start_time": "2024-11-19T13:53:37.408Z"
   },
   {
    "duration": 8541,
    "start_time": "2024-11-19T13:53:37.424Z"
   },
   {
    "duration": 3,
    "start_time": "2024-11-19T13:53:45.966Z"
   },
   {
    "duration": 13,
    "start_time": "2024-11-19T13:53:45.971Z"
   },
   {
    "duration": 87832,
    "start_time": "2024-11-19T13:53:45.986Z"
   },
   {
    "duration": 6,
    "start_time": "2024-11-19T13:55:13.820Z"
   },
   {
    "duration": 36,
    "start_time": "2024-11-19T13:55:13.828Z"
   },
   {
    "duration": 15,
    "start_time": "2024-11-19T13:55:13.866Z"
   },
   {
    "duration": 912,
    "start_time": "2024-11-19T13:55:13.884Z"
   },
   {
    "duration": 0,
    "start_time": "2024-11-19T13:55:14.797Z"
   },
   {
    "duration": 0,
    "start_time": "2024-11-19T13:55:14.799Z"
   },
   {
    "duration": 0,
    "start_time": "2024-11-19T13:55:14.800Z"
   },
   {
    "duration": 0,
    "start_time": "2024-11-19T13:55:14.801Z"
   },
   {
    "duration": 0,
    "start_time": "2024-11-19T13:55:14.802Z"
   },
   {
    "duration": 0,
    "start_time": "2024-11-19T13:55:14.803Z"
   },
   {
    "duration": 320,
    "start_time": "2024-11-19T13:56:55.116Z"
   },
   {
    "duration": 4,
    "start_time": "2024-11-19T13:56:59.711Z"
   },
   {
    "duration": 520,
    "start_time": "2024-11-19T13:57:02.463Z"
   },
   {
    "duration": 12,
    "start_time": "2024-11-19T13:57:32.065Z"
   },
   {
    "duration": 5,
    "start_time": "2024-11-19T13:57:36.698Z"
   },
   {
    "duration": 430,
    "start_time": "2024-11-19T13:57:39.559Z"
   },
   {
    "duration": 7209,
    "start_time": "2024-11-19T14:00:28.807Z"
   },
   {
    "duration": 968,
    "start_time": "2024-11-19T14:00:36.019Z"
   },
   {
    "duration": 46,
    "start_time": "2024-11-19T14:00:36.989Z"
   },
   {
    "duration": 15,
    "start_time": "2024-11-19T14:00:37.036Z"
   },
   {
    "duration": 271,
    "start_time": "2024-11-19T14:00:37.054Z"
   },
   {
    "duration": 5,
    "start_time": "2024-11-19T14:00:37.327Z"
   },
   {
    "duration": 8559,
    "start_time": "2024-11-19T14:00:37.333Z"
   },
   {
    "duration": 3,
    "start_time": "2024-11-19T14:00:45.894Z"
   },
   {
    "duration": 111,
    "start_time": "2024-11-19T14:00:45.899Z"
   },
   {
    "duration": 87376,
    "start_time": "2024-11-19T14:00:46.012Z"
   },
   {
    "duration": 5,
    "start_time": "2024-11-19T14:02:13.390Z"
   },
   {
    "duration": 7,
    "start_time": "2024-11-19T14:02:13.397Z"
   },
   {
    "duration": 16,
    "start_time": "2024-11-19T14:02:13.406Z"
   },
   {
    "duration": 7164,
    "start_time": "2024-11-19T14:21:32.283Z"
   },
   {
    "duration": 990,
    "start_time": "2024-11-19T14:21:39.449Z"
   },
   {
    "duration": 40,
    "start_time": "2024-11-19T14:21:40.440Z"
   },
   {
    "duration": 14,
    "start_time": "2024-11-19T14:21:40.481Z"
   },
   {
    "duration": 278,
    "start_time": "2024-11-19T14:21:40.497Z"
   },
   {
    "duration": 4,
    "start_time": "2024-11-19T14:21:40.777Z"
   },
   {
    "duration": 8504,
    "start_time": "2024-11-19T14:21:40.783Z"
   },
   {
    "duration": 3,
    "start_time": "2024-11-19T14:21:49.289Z"
   },
   {
    "duration": 7,
    "start_time": "2024-11-19T14:21:49.293Z"
   },
   {
    "duration": 86595,
    "start_time": "2024-11-19T14:21:49.302Z"
   },
   {
    "duration": 5,
    "start_time": "2024-11-19T14:23:15.899Z"
   },
   {
    "duration": 74,
    "start_time": "2024-11-19T14:23:15.906Z"
   },
   {
    "duration": 115,
    "start_time": "2024-11-19T14:23:15.981Z"
   },
   {
    "duration": 493,
    "start_time": "2024-11-19T14:23:16.098Z"
   },
   {
    "duration": 0,
    "start_time": "2024-11-19T14:23:16.593Z"
   },
   {
    "duration": 0,
    "start_time": "2024-11-19T14:23:16.595Z"
   },
   {
    "duration": 0,
    "start_time": "2024-11-19T14:23:16.597Z"
   },
   {
    "duration": 0,
    "start_time": "2024-11-19T14:23:16.598Z"
   },
   {
    "duration": 0,
    "start_time": "2024-11-19T14:23:16.600Z"
   },
   {
    "duration": 0,
    "start_time": "2024-11-19T14:23:16.602Z"
   },
   {
    "duration": 0,
    "start_time": "2024-11-19T14:23:16.603Z"
   },
   {
    "duration": 3,
    "start_time": "2024-11-19T14:24:10.767Z"
   },
   {
    "duration": 783173,
    "start_time": "2024-11-19T14:24:14.212Z"
   },
   {
    "duration": 6,
    "start_time": "2024-11-19T14:37:23.771Z"
   },
   {
    "duration": 11504,
    "start_time": "2024-11-21T20:45:26.049Z"
   },
   {
    "duration": 1228,
    "start_time": "2024-11-21T20:45:37.555Z"
   },
   {
    "duration": 31,
    "start_time": "2024-11-21T20:45:38.785Z"
   },
   {
    "duration": 8,
    "start_time": "2024-11-21T20:45:38.817Z"
   },
   {
    "duration": 247,
    "start_time": "2024-11-21T20:45:38.828Z"
   },
   {
    "duration": 4,
    "start_time": "2024-11-21T20:45:39.076Z"
   },
   {
    "duration": 7251,
    "start_time": "2024-11-21T20:45:39.081Z"
   },
   {
    "duration": 3,
    "start_time": "2024-11-21T20:45:46.333Z"
   },
   {
    "duration": 27,
    "start_time": "2024-11-21T20:45:46.337Z"
   },
   {
    "duration": 76514,
    "start_time": "2024-11-21T20:45:46.366Z"
   },
   {
    "duration": 5,
    "start_time": "2024-11-21T20:47:02.881Z"
   },
   {
    "duration": 23,
    "start_time": "2024-11-21T20:47:02.887Z"
   },
   {
    "duration": 27,
    "start_time": "2024-11-21T20:47:02.911Z"
   },
   {
    "duration": 678437,
    "start_time": "2024-11-21T20:47:02.940Z"
   },
   {
    "duration": 6,
    "start_time": "2024-11-21T20:58:21.378Z"
   },
   {
    "duration": 151,
    "start_time": "2024-11-21T20:58:21.385Z"
   },
   {
    "duration": 22,
    "start_time": "2024-11-21T21:08:26.670Z"
   },
   {
    "duration": 9,
    "start_time": "2024-11-21T21:08:28.558Z"
   },
   {
    "duration": 28,
    "start_time": "2024-11-21T21:08:32.949Z"
   },
   {
    "duration": 8,
    "start_time": "2024-11-21T21:08:36.919Z"
   },
   {
    "duration": 11,
    "start_time": "2024-11-21T21:08:58.709Z"
   },
   {
    "duration": 36,
    "start_time": "2024-11-21T21:09:24.358Z"
   },
   {
    "duration": 49,
    "start_time": "2024-11-21T21:09:27.670Z"
   },
   {
    "duration": 5,
    "start_time": "2024-11-21T21:09:42.706Z"
   },
   {
    "duration": 2,
    "start_time": "2024-11-21T21:09:47.581Z"
   },
   {
    "duration": 8,
    "start_time": "2024-11-21T21:42:24.688Z"
   },
   {
    "duration": 2,
    "start_time": "2024-11-21T21:42:27.033Z"
   },
   {
    "duration": 3,
    "start_time": "2024-11-21T21:42:28.804Z"
   },
   {
    "duration": 12,
    "start_time": "2024-11-21T21:51:13.586Z"
   },
   {
    "duration": 2,
    "start_time": "2024-11-21T21:51:15.362Z"
   },
   {
    "duration": 2,
    "start_time": "2024-11-21T21:51:17.245Z"
   },
   {
    "duration": 500,
    "start_time": "2024-11-21T21:56:58.321Z"
   },
   {
    "duration": 11988,
    "start_time": "2024-11-22T12:14:48.086Z"
   },
   {
    "duration": 1202,
    "start_time": "2024-11-22T12:15:00.076Z"
   },
   {
    "duration": 42,
    "start_time": "2024-11-22T12:15:01.279Z"
   },
   {
    "duration": 13,
    "start_time": "2024-11-22T12:15:01.323Z"
   },
   {
    "duration": 249,
    "start_time": "2024-11-22T12:15:01.339Z"
   },
   {
    "duration": 11,
    "start_time": "2024-11-22T12:15:01.590Z"
   },
   {
    "duration": 8186,
    "start_time": "2024-11-22T12:15:01.603Z"
   },
   {
    "duration": 9,
    "start_time": "2024-11-22T12:15:09.791Z"
   },
   {
    "duration": 12,
    "start_time": "2024-11-22T12:15:09.801Z"
   },
   {
    "duration": 80646,
    "start_time": "2024-11-22T12:15:09.815Z"
   },
   {
    "duration": 6,
    "start_time": "2024-11-22T12:16:30.463Z"
   },
   {
    "duration": 34,
    "start_time": "2024-11-22T12:16:30.471Z"
   },
   {
    "duration": 27,
    "start_time": "2024-11-22T12:16:30.506Z"
   },
   {
    "duration": 741569,
    "start_time": "2024-11-22T12:16:30.535Z"
   },
   {
    "duration": 5,
    "start_time": "2024-11-22T12:28:52.106Z"
   },
   {
    "duration": 57,
    "start_time": "2024-11-22T12:28:52.113Z"
   },
   {
    "duration": 93,
    "start_time": "2024-11-22T12:28:52.172Z"
   },
   {
    "duration": 4,
    "start_time": "2024-11-22T12:28:52.266Z"
   },
   {
    "duration": 2065,
    "start_time": "2024-11-22T12:28:52.271Z"
   },
   {
    "duration": 32,
    "start_time": "2024-11-22T12:28:54.338Z"
   },
   {
    "duration": 16,
    "start_time": "2024-11-22T12:28:54.372Z"
   },
   {
    "duration": 64,
    "start_time": "2024-11-22T12:28:54.390Z"
   },
   {
    "duration": 969,
    "start_time": "2024-11-22T12:28:54.456Z"
   },
   {
    "duration": 0,
    "start_time": "2024-11-22T12:28:55.427Z"
   },
   {
    "duration": 11,
    "start_time": "2024-11-22T12:30:52.724Z"
   },
   {
    "duration": 4,
    "start_time": "2024-11-22T12:31:13.935Z"
   },
   {
    "duration": 11,
    "start_time": "2024-11-22T12:31:18.846Z"
   },
   {
    "duration": 6,
    "start_time": "2024-11-22T12:31:22.062Z"
   },
   {
    "duration": 7,
    "start_time": "2024-11-22T12:31:24.227Z"
   },
   {
    "duration": 5,
    "start_time": "2024-11-22T12:31:26.198Z"
   },
   {
    "duration": 3,
    "start_time": "2024-11-22T12:32:45.402Z"
   },
   {
    "duration": 7,
    "start_time": "2024-11-22T12:33:03.503Z"
   },
   {
    "duration": 5,
    "start_time": "2024-11-22T12:33:06.514Z"
   },
   {
    "duration": 6,
    "start_time": "2024-11-22T12:34:01.574Z"
   },
   {
    "duration": 5302,
    "start_time": "2024-11-22T12:37:50.388Z"
   },
   {
    "duration": 25,
    "start_time": "2024-11-22T12:38:01.648Z"
   },
   {
    "duration": 4,
    "start_time": "2024-11-22T12:38:03.864Z"
   },
   {
    "duration": 3,
    "start_time": "2024-11-22T12:38:10.239Z"
   },
   {
    "duration": 3,
    "start_time": "2024-11-22T12:39:59.942Z"
   },
   {
    "duration": 370898,
    "start_time": "2024-11-22T12:40:02.152Z"
   },
   {
    "duration": 20087,
    "start_time": "2024-11-22T12:50:22.593Z"
   },
   {
    "duration": 8,
    "start_time": "2024-11-22T12:52:12.830Z"
   },
   {
    "duration": 200,
    "start_time": "2024-11-22T12:58:26.962Z"
   },
   {
    "duration": 11,
    "start_time": "2024-11-22T13:12:15.313Z"
   },
   {
    "duration": 3,
    "start_time": "2024-11-22T13:12:30.788Z"
   },
   {
    "duration": 27,
    "start_time": "2024-11-22T13:18:47.825Z"
   },
   {
    "duration": 3,
    "start_time": "2024-11-22T13:18:49.901Z"
   },
   {
    "duration": 200901,
    "start_time": "2024-11-22T13:18:52.802Z"
   },
   {
    "duration": 6273,
    "start_time": "2024-11-22T13:24:18.911Z"
   },
   {
    "duration": 23,
    "start_time": "2024-11-22T13:24:42.992Z"
   },
   {
    "duration": 17,
    "start_time": "2024-11-22T13:27:00.866Z"
   },
   {
    "duration": 11,
    "start_time": "2024-11-22T13:28:56.089Z"
   },
   {
    "duration": 15,
    "start_time": "2024-11-22T13:29:04.016Z"
   },
   {
    "duration": 3,
    "start_time": "2024-11-22T13:29:13.745Z"
   },
   {
    "duration": 19,
    "start_time": "2024-11-22T13:32:44.993Z"
   },
   {
    "duration": 3,
    "start_time": "2024-11-22T13:32:47.450Z"
   },
   {
    "duration": 140697,
    "start_time": "2024-11-22T13:32:50.229Z"
   },
   {
    "duration": 6122,
    "start_time": "2024-11-22T13:35:35.563Z"
   },
   {
    "duration": 832,
    "start_time": "2024-11-22T13:35:43.364Z"
   },
   {
    "duration": 5,
    "start_time": "2024-11-22T13:39:47.624Z"
   },
   {
    "duration": 763595,
    "start_time": "2024-11-22T13:40:40.469Z"
   },
   {
    "duration": 24016,
    "start_time": "2024-11-22T13:56:03.915Z"
   },
   {
    "duration": 1369,
    "start_time": "2024-11-22T13:56:44.712Z"
   },
   {
    "duration": 3,
    "start_time": "2024-11-22T14:03:14.647Z"
   },
   {
    "duration": 7174,
    "start_time": "2024-11-22T14:09:28.453Z"
   },
   {
    "duration": 1012,
    "start_time": "2024-11-22T14:09:35.629Z"
   },
   {
    "duration": 58,
    "start_time": "2024-11-22T14:09:36.644Z"
   },
   {
    "duration": 24,
    "start_time": "2024-11-22T14:09:36.707Z"
   },
   {
    "duration": 267,
    "start_time": "2024-11-22T14:09:36.733Z"
   },
   {
    "duration": 5,
    "start_time": "2024-11-22T14:09:37.002Z"
   },
   {
    "duration": 8569,
    "start_time": "2024-11-22T14:09:37.012Z"
   },
   {
    "duration": 3,
    "start_time": "2024-11-22T14:09:45.582Z"
   },
   {
    "duration": 41,
    "start_time": "2024-11-22T14:09:45.586Z"
   },
   {
    "duration": 88359,
    "start_time": "2024-11-22T14:09:45.629Z"
   },
   {
    "duration": 11,
    "start_time": "2024-11-22T14:11:13.990Z"
   },
   {
    "duration": 13,
    "start_time": "2024-11-22T14:11:14.004Z"
   },
   {
    "duration": 6,
    "start_time": "2024-11-22T14:11:14.022Z"
   },
   {
    "duration": 797142,
    "start_time": "2024-11-22T14:11:14.029Z"
   },
   {
    "duration": 6,
    "start_time": "2024-11-22T14:24:31.173Z"
   },
   {
    "duration": 100,
    "start_time": "2024-11-22T14:24:31.181Z"
   },
   {
    "duration": 69,
    "start_time": "2024-11-22T14:24:31.283Z"
   },
   {
    "duration": 2,
    "start_time": "2024-11-22T14:24:31.354Z"
   },
   {
    "duration": 5099,
    "start_time": "2024-11-22T14:24:31.357Z"
   },
   {
    "duration": 23,
    "start_time": "2024-11-22T14:24:36.458Z"
   },
   {
    "duration": 21,
    "start_time": "2024-11-22T14:24:36.482Z"
   },
   {
    "duration": 12,
    "start_time": "2024-11-22T14:24:36.504Z"
   },
   {
    "duration": 553591,
    "start_time": "2024-11-22T14:24:36.517Z"
   },
   {
    "duration": 4059,
    "start_time": "2024-11-22T14:33:50.110Z"
   },
   {
    "duration": 8,
    "start_time": "2024-11-22T14:33:54.171Z"
   },
   {
    "duration": 39,
    "start_time": "2024-11-22T14:33:54.181Z"
   },
   {
    "duration": 3,
    "start_time": "2024-11-22T14:33:54.222Z"
   },
   {
    "duration": 310970,
    "start_time": "2024-11-22T14:33:54.227Z"
   },
   {
    "duration": 25071,
    "start_time": "2024-11-22T14:39:05.201Z"
   },
   {
    "duration": 34,
    "start_time": "2024-11-22T14:39:30.274Z"
   },
   {
    "duration": 40,
    "start_time": "2024-11-22T14:39:30.310Z"
   },
   {
    "duration": 15,
    "start_time": "2024-11-22T14:39:30.351Z"
   },
   {
    "duration": 779249,
    "start_time": "2024-11-22T14:39:30.368Z"
   },
   {
    "duration": 24652,
    "start_time": "2024-11-22T14:52:29.619Z"
   },
   {
    "duration": 1438,
    "start_time": "2024-11-22T14:52:54.273Z"
   },
   {
    "duration": 15,
    "start_time": "2024-11-22T14:52:55.714Z"
   },
   {
    "duration": 3,
    "start_time": "2024-11-22T15:06:59.438Z"
   },
   {
    "duration": 6795,
    "start_time": "2024-11-22T15:21:03.133Z"
   },
   {
    "duration": 926,
    "start_time": "2024-11-22T15:21:09.930Z"
   },
   {
    "duration": 56,
    "start_time": "2024-11-22T15:21:10.857Z"
   },
   {
    "duration": 15,
    "start_time": "2024-11-22T15:21:10.915Z"
   },
   {
    "duration": 243,
    "start_time": "2024-11-22T15:21:10.933Z"
   },
   {
    "duration": 4,
    "start_time": "2024-11-22T15:21:11.178Z"
   },
   {
    "duration": 8153,
    "start_time": "2024-11-22T15:21:11.184Z"
   },
   {
    "duration": 3,
    "start_time": "2024-11-22T15:21:19.339Z"
   },
   {
    "duration": 5,
    "start_time": "2024-11-22T15:21:19.343Z"
   },
   {
    "duration": 81738,
    "start_time": "2024-11-22T15:21:19.350Z"
   },
   {
    "duration": 5,
    "start_time": "2024-11-22T15:22:41.090Z"
   },
   {
    "duration": 22,
    "start_time": "2024-11-22T15:22:41.100Z"
   },
   {
    "duration": 5,
    "start_time": "2024-11-22T15:22:41.124Z"
   },
   {
    "duration": 745561,
    "start_time": "2024-11-22T15:22:41.131Z"
   },
   {
    "duration": 10,
    "start_time": "2024-11-22T15:35:06.694Z"
   },
   {
    "duration": 98,
    "start_time": "2024-11-22T15:35:06.705Z"
   },
   {
    "duration": 66,
    "start_time": "2024-11-22T15:35:06.804Z"
   },
   {
    "duration": 3,
    "start_time": "2024-11-22T15:35:06.872Z"
   },
   {
    "duration": 5274,
    "start_time": "2024-11-22T15:35:06.876Z"
   },
   {
    "duration": 23,
    "start_time": "2024-11-22T15:35:12.152Z"
   },
   {
    "duration": 4,
    "start_time": "2024-11-22T15:35:12.177Z"
   },
   {
    "duration": 20,
    "start_time": "2024-11-22T15:35:12.182Z"
   },
   {
    "duration": 554953,
    "start_time": "2024-11-22T15:35:12.204Z"
   },
   {
    "duration": 4193,
    "start_time": "2024-11-22T15:44:27.158Z"
   },
   {
    "duration": 8,
    "start_time": "2024-11-22T15:44:31.353Z"
   },
   {
    "duration": 48,
    "start_time": "2024-11-22T15:44:31.363Z"
   },
   {
    "duration": 6,
    "start_time": "2024-11-22T15:44:31.413Z"
   },
   {
    "duration": 311877,
    "start_time": "2024-11-22T15:44:31.422Z"
   },
   {
    "duration": 24868,
    "start_time": "2024-11-22T15:49:43.301Z"
   },
   {
    "duration": 45,
    "start_time": "2024-11-22T15:50:08.171Z"
   },
   {
    "duration": 30,
    "start_time": "2024-11-22T15:50:08.218Z"
   },
   {
    "duration": 4,
    "start_time": "2024-11-22T15:50:08.250Z"
   },
   {
    "duration": 772746,
    "start_time": "2024-11-22T15:50:08.256Z"
   },
   {
    "duration": 25631,
    "start_time": "2024-11-22T16:03:01.004Z"
   },
   {
    "duration": 1507,
    "start_time": "2024-11-22T16:03:26.638Z"
   },
   {
    "duration": 3,
    "start_time": "2024-11-22T16:03:28.147Z"
   },
   {
    "duration": 22,
    "start_time": "2024-11-22T16:03:28.152Z"
   },
   {
    "duration": 33,
    "start_time": "2024-11-22T16:03:28.176Z"
   },
   {
    "duration": 97,
    "start_time": "2024-11-22T16:11:44.922Z"
   },
   {
    "duration": 6685,
    "start_time": "2024-11-22T16:24:12.999Z"
   },
   {
    "duration": 924,
    "start_time": "2024-11-22T16:24:19.686Z"
   },
   {
    "duration": 40,
    "start_time": "2024-11-22T16:24:20.611Z"
   },
   {
    "duration": 13,
    "start_time": "2024-11-22T16:24:20.653Z"
   },
   {
    "duration": 248,
    "start_time": "2024-11-22T16:24:20.669Z"
   },
   {
    "duration": 4,
    "start_time": "2024-11-22T16:24:20.919Z"
   },
   {
    "duration": 8391,
    "start_time": "2024-11-22T16:24:20.925Z"
   },
   {
    "duration": 3,
    "start_time": "2024-11-22T16:24:29.318Z"
   },
   {
    "duration": 72,
    "start_time": "2024-11-22T16:24:29.322Z"
   },
   {
    "duration": 81511,
    "start_time": "2024-11-22T16:24:29.396Z"
   },
   {
    "duration": 5,
    "start_time": "2024-11-22T16:25:50.909Z"
   },
   {
    "duration": 8,
    "start_time": "2024-11-22T16:25:50.915Z"
   },
   {
    "duration": 5,
    "start_time": "2024-11-22T16:25:50.925Z"
   },
   {
    "duration": 736975,
    "start_time": "2024-11-22T16:25:50.933Z"
   },
   {
    "duration": 6,
    "start_time": "2024-11-22T16:38:07.909Z"
   },
   {
    "duration": 48,
    "start_time": "2024-11-22T16:38:07.917Z"
   },
   {
    "duration": 83,
    "start_time": "2024-11-22T16:38:07.967Z"
   },
   {
    "duration": 5327,
    "start_time": "2024-11-22T16:38:08.051Z"
   },
   {
    "duration": 31,
    "start_time": "2024-11-22T16:38:13.380Z"
   },
   {
    "duration": 48,
    "start_time": "2024-11-22T16:38:13.413Z"
   },
   {
    "duration": 29,
    "start_time": "2024-11-22T16:38:13.463Z"
   },
   {
    "duration": 552649,
    "start_time": "2024-11-22T16:38:13.494Z"
   },
   {
    "duration": 3874,
    "start_time": "2024-11-22T16:47:26.145Z"
   },
   {
    "duration": 8,
    "start_time": "2024-11-22T16:47:30.021Z"
   },
   {
    "duration": 41,
    "start_time": "2024-11-22T16:47:30.030Z"
   },
   {
    "duration": 25,
    "start_time": "2024-11-22T16:47:30.073Z"
   },
   {
    "duration": 313425,
    "start_time": "2024-11-22T16:47:30.100Z"
   },
   {
    "duration": 25839,
    "start_time": "2024-11-22T16:52:43.527Z"
   },
   {
    "duration": 40,
    "start_time": "2024-11-22T16:53:09.368Z"
   },
   {
    "duration": 32,
    "start_time": "2024-11-22T16:53:09.410Z"
   },
   {
    "duration": 33,
    "start_time": "2024-11-22T16:53:09.444Z"
   },
   {
    "duration": 775799,
    "start_time": "2024-11-22T16:53:09.478Z"
   },
   {
    "duration": 26341,
    "start_time": "2024-11-22T17:06:05.278Z"
   },
   {
    "duration": 1512,
    "start_time": "2024-11-22T17:06:31.621Z"
   },
   {
    "duration": 3,
    "start_time": "2024-11-22T17:06:33.135Z"
   },
   {
    "duration": 21,
    "start_time": "2024-11-22T17:06:33.140Z"
   },
   {
    "duration": 27,
    "start_time": "2024-11-22T17:06:33.163Z"
   },
   {
    "duration": 56,
    "start_time": "2024-11-26T14:01:00.215Z"
   },
   {
    "duration": 18675,
    "start_time": "2024-11-26T14:56:00.524Z"
   },
   {
    "duration": 3710,
    "start_time": "2024-11-26T14:56:19.202Z"
   },
   {
    "duration": 43,
    "start_time": "2024-11-26T14:56:22.914Z"
   },
   {
    "duration": 12,
    "start_time": "2024-11-26T14:56:22.959Z"
   },
   {
    "duration": 248,
    "start_time": "2024-11-26T14:56:22.973Z"
   },
   {
    "duration": 4,
    "start_time": "2024-11-26T14:56:23.223Z"
   },
   {
    "duration": 159,
    "start_time": "2024-11-26T14:56:23.229Z"
   },
   {
    "duration": 0,
    "start_time": "2024-11-26T14:56:23.390Z"
   },
   {
    "duration": 0,
    "start_time": "2024-11-26T14:56:23.391Z"
   },
   {
    "duration": 1,
    "start_time": "2024-11-26T14:56:23.397Z"
   },
   {
    "duration": 0,
    "start_time": "2024-11-26T14:56:23.399Z"
   },
   {
    "duration": 0,
    "start_time": "2024-11-26T14:56:23.400Z"
   },
   {
    "duration": 0,
    "start_time": "2024-11-26T14:56:23.401Z"
   },
   {
    "duration": 0,
    "start_time": "2024-11-26T14:56:23.402Z"
   },
   {
    "duration": 0,
    "start_time": "2024-11-26T14:56:23.403Z"
   },
   {
    "duration": 0,
    "start_time": "2024-11-26T14:56:23.404Z"
   },
   {
    "duration": 0,
    "start_time": "2024-11-26T14:56:23.405Z"
   },
   {
    "duration": 0,
    "start_time": "2024-11-26T14:56:23.406Z"
   },
   {
    "duration": 0,
    "start_time": "2024-11-26T14:56:23.407Z"
   },
   {
    "duration": 0,
    "start_time": "2024-11-26T14:56:23.408Z"
   },
   {
    "duration": 0,
    "start_time": "2024-11-26T14:56:23.522Z"
   },
   {
    "duration": 0,
    "start_time": "2024-11-26T14:56:23.523Z"
   },
   {
    "duration": 0,
    "start_time": "2024-11-26T14:56:23.525Z"
   },
   {
    "duration": 0,
    "start_time": "2024-11-26T14:56:23.526Z"
   },
   {
    "duration": 0,
    "start_time": "2024-11-26T14:56:23.527Z"
   },
   {
    "duration": 0,
    "start_time": "2024-11-26T14:56:23.528Z"
   },
   {
    "duration": 0,
    "start_time": "2024-11-26T14:56:23.529Z"
   },
   {
    "duration": 0,
    "start_time": "2024-11-26T14:56:23.531Z"
   },
   {
    "duration": 0,
    "start_time": "2024-11-26T14:56:23.532Z"
   },
   {
    "duration": 0,
    "start_time": "2024-11-26T14:56:23.533Z"
   },
   {
    "duration": 0,
    "start_time": "2024-11-26T14:56:23.534Z"
   },
   {
    "duration": 0,
    "start_time": "2024-11-26T14:56:23.535Z"
   },
   {
    "duration": 0,
    "start_time": "2024-11-26T14:56:23.537Z"
   },
   {
    "duration": 0,
    "start_time": "2024-11-26T14:56:23.538Z"
   },
   {
    "duration": 0,
    "start_time": "2024-11-26T14:56:23.540Z"
   },
   {
    "duration": 0,
    "start_time": "2024-11-26T14:56:23.541Z"
   },
   {
    "duration": 223,
    "start_time": "2024-11-26T14:56:42.487Z"
   },
   {
    "duration": 196,
    "start_time": "2024-11-26T14:56:51.467Z"
   },
   {
    "duration": 13,
    "start_time": "2024-11-26T14:57:02.165Z"
   },
   {
    "duration": 0,
    "start_time": "2024-11-26T14:57:02.179Z"
   },
   {
    "duration": 0,
    "start_time": "2024-11-26T14:57:02.180Z"
   },
   {
    "duration": 0,
    "start_time": "2024-11-26T14:57:02.181Z"
   },
   {
    "duration": 0,
    "start_time": "2024-11-26T14:57:02.183Z"
   },
   {
    "duration": 0,
    "start_time": "2024-11-26T14:57:02.184Z"
   },
   {
    "duration": 0,
    "start_time": "2024-11-26T14:57:02.185Z"
   },
   {
    "duration": 0,
    "start_time": "2024-11-26T14:57:02.186Z"
   },
   {
    "duration": 0,
    "start_time": "2024-11-26T14:57:02.187Z"
   },
   {
    "duration": 0,
    "start_time": "2024-11-26T14:57:02.188Z"
   },
   {
    "duration": 0,
    "start_time": "2024-11-26T14:57:02.189Z"
   },
   {
    "duration": 0,
    "start_time": "2024-11-26T14:57:02.190Z"
   },
   {
    "duration": 0,
    "start_time": "2024-11-26T14:57:02.191Z"
   },
   {
    "duration": 0,
    "start_time": "2024-11-26T14:57:02.193Z"
   },
   {
    "duration": 84,
    "start_time": "2024-11-26T14:57:02.366Z"
   },
   {
    "duration": 55,
    "start_time": "2024-11-26T14:57:02.452Z"
   },
   {
    "duration": 9,
    "start_time": "2024-11-26T14:57:02.509Z"
   },
   {
    "duration": 0,
    "start_time": "2024-11-26T14:57:02.520Z"
   },
   {
    "duration": 0,
    "start_time": "2024-11-26T14:57:02.521Z"
   },
   {
    "duration": 0,
    "start_time": "2024-11-26T14:57:02.522Z"
   },
   {
    "duration": 0,
    "start_time": "2024-11-26T14:57:02.524Z"
   },
   {
    "duration": 0,
    "start_time": "2024-11-26T14:57:02.525Z"
   },
   {
    "duration": 0,
    "start_time": "2024-11-26T14:57:02.527Z"
   },
   {
    "duration": 0,
    "start_time": "2024-11-26T14:57:02.529Z"
   },
   {
    "duration": 0,
    "start_time": "2024-11-26T14:57:02.530Z"
   },
   {
    "duration": 0,
    "start_time": "2024-11-26T14:57:02.532Z"
   },
   {
    "duration": 27,
    "start_time": "2024-11-26T14:57:02.540Z"
   },
   {
    "duration": 0,
    "start_time": "2024-11-26T14:57:02.569Z"
   },
   {
    "duration": 0,
    "start_time": "2024-11-26T14:57:02.571Z"
   },
   {
    "duration": 2063,
    "start_time": "2024-11-26T14:57:38.986Z"
   },
   {
    "duration": 10108,
    "start_time": "2024-11-26T14:59:51.380Z"
   },
   {
    "duration": 970,
    "start_time": "2024-11-26T15:00:01.490Z"
   },
   {
    "duration": 48,
    "start_time": "2024-11-26T15:00:02.462Z"
   },
   {
    "duration": 35,
    "start_time": "2024-11-26T15:00:02.512Z"
   },
   {
    "duration": 251,
    "start_time": "2024-11-26T15:00:02.549Z"
   },
   {
    "duration": 5,
    "start_time": "2024-11-26T15:00:02.802Z"
   },
   {
    "duration": 234,
    "start_time": "2024-11-26T15:00:02.809Z"
   },
   {
    "duration": 2155,
    "start_time": "2024-11-26T15:00:03.045Z"
   },
   {
    "duration": 8674,
    "start_time": "2024-11-26T15:00:05.202Z"
   },
   {
    "duration": 3,
    "start_time": "2024-11-26T15:00:13.877Z"
   },
   {
    "duration": 27,
    "start_time": "2024-11-26T15:00:13.881Z"
   },
   {
    "duration": 11,
    "start_time": "2024-11-26T15:00:13.910Z"
   },
   {
    "duration": 12614,
    "start_time": "2024-11-26T15:09:04.321Z"
   },
   {
    "duration": 918,
    "start_time": "2024-11-26T15:09:16.937Z"
   },
   {
    "duration": 50,
    "start_time": "2024-11-26T15:09:17.857Z"
   },
   {
    "duration": 13,
    "start_time": "2024-11-26T15:09:17.909Z"
   },
   {
    "duration": 240,
    "start_time": "2024-11-26T15:09:17.924Z"
   },
   {
    "duration": 5,
    "start_time": "2024-11-26T15:09:18.166Z"
   },
   {
    "duration": 239,
    "start_time": "2024-11-26T15:09:18.173Z"
   },
   {
    "duration": 2217,
    "start_time": "2024-11-26T15:09:18.415Z"
   },
   {
    "duration": 8326,
    "start_time": "2024-11-26T15:09:20.633Z"
   },
   {
    "duration": 2,
    "start_time": "2024-11-26T15:09:28.961Z"
   },
   {
    "duration": 18,
    "start_time": "2024-11-26T15:09:28.965Z"
   },
   {
    "duration": 20,
    "start_time": "2024-11-26T15:09:28.985Z"
   },
   {
    "duration": 804290,
    "start_time": "2024-11-26T15:09:29.007Z"
   },
   {
    "duration": 6,
    "start_time": "2024-11-26T15:22:53.300Z"
   },
   {
    "duration": 64,
    "start_time": "2024-11-26T15:22:53.307Z"
   },
   {
    "duration": 73,
    "start_time": "2024-11-26T15:22:53.373Z"
   },
   {
    "duration": 5480,
    "start_time": "2024-11-26T15:22:53.448Z"
   },
   {
    "duration": 14,
    "start_time": "2024-11-26T15:22:58.930Z"
   },
   {
    "duration": 12,
    "start_time": "2024-11-26T15:22:58.947Z"
   },
   {
    "duration": 14,
    "start_time": "2024-11-26T15:22:58.961Z"
   },
   {
    "duration": 12508,
    "start_time": "2024-11-26T15:25:49.828Z"
   },
   {
    "duration": 932,
    "start_time": "2024-11-26T15:26:02.339Z"
   },
   {
    "duration": 44,
    "start_time": "2024-11-26T15:26:03.273Z"
   },
   {
    "duration": 13,
    "start_time": "2024-11-26T15:26:03.319Z"
   },
   {
    "duration": 253,
    "start_time": "2024-11-26T15:26:03.334Z"
   },
   {
    "duration": 10,
    "start_time": "2024-11-26T15:26:03.588Z"
   },
   {
    "duration": 225,
    "start_time": "2024-11-26T15:26:03.599Z"
   },
   {
    "duration": 8372,
    "start_time": "2024-11-26T15:26:03.825Z"
   },
   {
    "duration": 145,
    "start_time": "2024-11-26T15:26:12.199Z"
   },
   {
    "duration": 0,
    "start_time": "2024-11-26T15:26:12.422Z"
   },
   {
    "duration": 0,
    "start_time": "2024-11-26T15:26:12.423Z"
   },
   {
    "duration": 0,
    "start_time": "2024-11-26T15:26:12.424Z"
   },
   {
    "duration": 0,
    "start_time": "2024-11-26T15:26:12.425Z"
   },
   {
    "duration": 0,
    "start_time": "2024-11-26T15:26:12.426Z"
   },
   {
    "duration": 0,
    "start_time": "2024-11-26T15:26:12.427Z"
   },
   {
    "duration": 0,
    "start_time": "2024-11-26T15:26:12.428Z"
   },
   {
    "duration": 0,
    "start_time": "2024-11-26T15:26:12.429Z"
   },
   {
    "duration": 0,
    "start_time": "2024-11-26T15:26:12.430Z"
   },
   {
    "duration": 0,
    "start_time": "2024-11-26T15:26:12.431Z"
   },
   {
    "duration": 0,
    "start_time": "2024-11-26T15:26:12.432Z"
   },
   {
    "duration": 0,
    "start_time": "2024-11-26T15:26:12.433Z"
   },
   {
    "duration": 0,
    "start_time": "2024-11-26T15:26:12.434Z"
   },
   {
    "duration": 0,
    "start_time": "2024-11-26T15:26:12.435Z"
   },
   {
    "duration": 0,
    "start_time": "2024-11-26T15:26:12.436Z"
   },
   {
    "duration": 0,
    "start_time": "2024-11-26T15:26:12.438Z"
   },
   {
    "duration": 0,
    "start_time": "2024-11-26T15:26:12.439Z"
   },
   {
    "duration": 0,
    "start_time": "2024-11-26T15:26:12.440Z"
   },
   {
    "duration": 0,
    "start_time": "2024-11-26T15:26:12.441Z"
   },
   {
    "duration": 0,
    "start_time": "2024-11-26T15:26:12.442Z"
   },
   {
    "duration": 0,
    "start_time": "2024-11-26T15:26:12.443Z"
   },
   {
    "duration": 0,
    "start_time": "2024-11-26T15:26:12.444Z"
   },
   {
    "duration": 0,
    "start_time": "2024-11-26T15:26:12.445Z"
   },
   {
    "duration": 0,
    "start_time": "2024-11-26T15:26:12.446Z"
   },
   {
    "duration": 0,
    "start_time": "2024-11-26T15:26:12.447Z"
   },
   {
    "duration": 0,
    "start_time": "2024-11-26T15:26:12.448Z"
   },
   {
    "duration": 0,
    "start_time": "2024-11-26T15:26:12.498Z"
   },
   {
    "duration": 0,
    "start_time": "2024-11-26T15:26:12.499Z"
   },
   {
    "duration": 0,
    "start_time": "2024-11-26T15:26:12.500Z"
   },
   {
    "duration": 0,
    "start_time": "2024-11-26T15:26:12.501Z"
   },
   {
    "duration": 0,
    "start_time": "2024-11-26T15:26:12.502Z"
   },
   {
    "duration": 0,
    "start_time": "2024-11-26T15:26:12.503Z"
   },
   {
    "duration": 593,
    "start_time": "2024-11-26T15:32:12.854Z"
   },
   {
    "duration": 60154,
    "start_time": "2024-11-26T15:33:52.650Z"
   },
   {
    "duration": 52110,
    "start_time": "2024-11-26T15:35:41.929Z"
   },
   {
    "duration": 7281,
    "start_time": "2024-11-26T15:39:10.201Z"
   },
   {
    "duration": 224,
    "start_time": "2024-11-26T15:39:20.745Z"
   },
   {
    "duration": 221,
    "start_time": "2024-11-26T15:39:32.432Z"
   },
   {
    "duration": 211,
    "start_time": "2024-11-26T15:39:42.212Z"
   },
   {
    "duration": 487,
    "start_time": "2024-11-26T15:40:18.272Z"
   },
   {
    "duration": 227,
    "start_time": "2024-11-26T15:40:29.433Z"
   },
   {
    "duration": 223,
    "start_time": "2024-11-26T15:40:46.768Z"
   },
   {
    "duration": 224,
    "start_time": "2024-11-26T15:41:02.058Z"
   },
   {
    "duration": 293,
    "start_time": "2024-11-26T15:41:18.048Z"
   },
   {
    "duration": 275,
    "start_time": "2024-11-26T15:41:59.138Z"
   },
   {
    "duration": 55,
    "start_time": "2024-11-26T15:42:25.141Z"
   },
   {
    "duration": 55,
    "start_time": "2024-11-26T15:43:08.471Z"
   },
   {
    "duration": 14174,
    "start_time": "2024-11-26T16:55:14.335Z"
   },
   {
    "duration": 973,
    "start_time": "2024-11-26T16:55:28.513Z"
   },
   {
    "duration": 45,
    "start_time": "2024-11-26T16:55:29.487Z"
   },
   {
    "duration": 13,
    "start_time": "2024-11-26T16:55:29.534Z"
   },
   {
    "duration": 262,
    "start_time": "2024-11-26T16:55:29.549Z"
   },
   {
    "duration": 4,
    "start_time": "2024-11-26T16:55:29.813Z"
   },
   {
    "duration": 230,
    "start_time": "2024-11-26T16:55:29.819Z"
   },
   {
    "duration": 8489,
    "start_time": "2024-11-26T16:55:30.051Z"
   },
   {
    "duration": 51108,
    "start_time": "2024-11-26T16:55:38.541Z"
   },
   {
    "duration": 7272,
    "start_time": "2024-11-26T16:56:29.652Z"
   },
   {
    "duration": 299,
    "start_time": "2024-11-26T16:56:36.926Z"
   },
   {
    "duration": 53,
    "start_time": "2024-11-26T16:56:37.227Z"
   },
   {
    "duration": 145,
    "start_time": "2024-11-26T16:56:37.282Z"
   },
   {
    "duration": 0,
    "start_time": "2024-11-26T16:56:37.429Z"
   },
   {
    "duration": 0,
    "start_time": "2024-11-26T16:56:37.431Z"
   },
   {
    "duration": 0,
    "start_time": "2024-11-26T16:56:37.432Z"
   },
   {
    "duration": 0,
    "start_time": "2024-11-26T16:56:37.433Z"
   },
   {
    "duration": 0,
    "start_time": "2024-11-26T16:56:37.434Z"
   },
   {
    "duration": 0,
    "start_time": "2024-11-26T16:56:37.435Z"
   },
   {
    "duration": 0,
    "start_time": "2024-11-26T16:56:37.436Z"
   },
   {
    "duration": 0,
    "start_time": "2024-11-26T16:56:37.437Z"
   },
   {
    "duration": 0,
    "start_time": "2024-11-26T16:56:37.438Z"
   },
   {
    "duration": 0,
    "start_time": "2024-11-26T16:56:37.439Z"
   },
   {
    "duration": 0,
    "start_time": "2024-11-26T16:56:37.440Z"
   },
   {
    "duration": 0,
    "start_time": "2024-11-26T16:56:37.442Z"
   },
   {
    "duration": 0,
    "start_time": "2024-11-26T16:56:37.443Z"
   },
   {
    "duration": 0,
    "start_time": "2024-11-26T16:56:37.444Z"
   },
   {
    "duration": 0,
    "start_time": "2024-11-26T16:56:37.446Z"
   },
   {
    "duration": 0,
    "start_time": "2024-11-26T16:56:37.447Z"
   },
   {
    "duration": 0,
    "start_time": "2024-11-26T16:56:37.448Z"
   },
   {
    "duration": 0,
    "start_time": "2024-11-26T16:56:37.449Z"
   },
   {
    "duration": 0,
    "start_time": "2024-11-26T16:56:37.451Z"
   },
   {
    "duration": 0,
    "start_time": "2024-11-26T16:56:37.452Z"
   },
   {
    "duration": 0,
    "start_time": "2024-11-26T16:56:37.498Z"
   },
   {
    "duration": 0,
    "start_time": "2024-11-26T16:56:37.499Z"
   },
   {
    "duration": 0,
    "start_time": "2024-11-26T16:56:37.501Z"
   },
   {
    "duration": 0,
    "start_time": "2024-11-26T16:56:37.502Z"
   },
   {
    "duration": 0,
    "start_time": "2024-11-26T16:56:37.504Z"
   },
   {
    "duration": 0,
    "start_time": "2024-11-26T16:56:37.505Z"
   },
   {
    "duration": 0,
    "start_time": "2024-11-26T16:56:37.506Z"
   },
   {
    "duration": 0,
    "start_time": "2024-11-26T16:56:37.507Z"
   },
   {
    "duration": 0,
    "start_time": "2024-11-26T16:56:37.509Z"
   },
   {
    "duration": 0,
    "start_time": "2024-11-26T16:56:37.510Z"
   },
   {
    "duration": 0,
    "start_time": "2024-11-26T16:56:37.511Z"
   },
   {
    "duration": 10,
    "start_time": "2024-11-26T16:59:02.747Z"
   },
   {
    "duration": 12,
    "start_time": "2024-11-26T16:59:07.247Z"
   },
   {
    "duration": 1,
    "start_time": "2024-11-26T16:59:07.260Z"
   },
   {
    "duration": 0,
    "start_time": "2024-11-26T16:59:07.261Z"
   },
   {
    "duration": 0,
    "start_time": "2024-11-26T16:59:07.263Z"
   },
   {
    "duration": 0,
    "start_time": "2024-11-26T16:59:07.264Z"
   },
   {
    "duration": 0,
    "start_time": "2024-11-26T16:59:07.265Z"
   },
   {
    "duration": 0,
    "start_time": "2024-11-26T16:59:07.266Z"
   },
   {
    "duration": 0,
    "start_time": "2024-11-26T16:59:07.268Z"
   },
   {
    "duration": 0,
    "start_time": "2024-11-26T16:59:07.269Z"
   },
   {
    "duration": 0,
    "start_time": "2024-11-26T16:59:07.270Z"
   },
   {
    "duration": 0,
    "start_time": "2024-11-26T16:59:07.271Z"
   },
   {
    "duration": 13,
    "start_time": "2024-11-26T16:59:07.274Z"
   },
   {
    "duration": 0,
    "start_time": "2024-11-26T16:59:07.289Z"
   },
   {
    "duration": 0,
    "start_time": "2024-11-26T16:59:07.290Z"
   },
   {
    "duration": 0,
    "start_time": "2024-11-26T16:59:07.291Z"
   },
   {
    "duration": 0,
    "start_time": "2024-11-26T16:59:07.298Z"
   },
   {
    "duration": 0,
    "start_time": "2024-11-26T16:59:07.300Z"
   },
   {
    "duration": 0,
    "start_time": "2024-11-26T16:59:07.301Z"
   },
   {
    "duration": 0,
    "start_time": "2024-11-26T16:59:07.303Z"
   },
   {
    "duration": 0,
    "start_time": "2024-11-26T16:59:07.304Z"
   },
   {
    "duration": 0,
    "start_time": "2024-11-26T16:59:07.306Z"
   },
   {
    "duration": 0,
    "start_time": "2024-11-26T16:59:07.307Z"
   },
   {
    "duration": 0,
    "start_time": "2024-11-26T16:59:07.309Z"
   },
   {
    "duration": 0,
    "start_time": "2024-11-26T16:59:07.310Z"
   },
   {
    "duration": 0,
    "start_time": "2024-11-26T16:59:07.311Z"
   },
   {
    "duration": 0,
    "start_time": "2024-11-26T16:59:07.313Z"
   },
   {
    "duration": 0,
    "start_time": "2024-11-26T16:59:07.314Z"
   },
   {
    "duration": 0,
    "start_time": "2024-11-26T16:59:07.316Z"
   },
   {
    "duration": 0,
    "start_time": "2024-11-26T16:59:07.317Z"
   },
   {
    "duration": 0,
    "start_time": "2024-11-26T16:59:07.319Z"
   },
   {
    "duration": 0,
    "start_time": "2024-11-26T16:59:07.320Z"
   },
   {
    "duration": 0,
    "start_time": "2024-11-26T16:59:07.322Z"
   },
   {
    "duration": 12,
    "start_time": "2024-11-26T16:59:15.196Z"
   },
   {
    "duration": 11157,
    "start_time": "2024-11-26T16:59:21.378Z"
   },
   {
    "duration": 956,
    "start_time": "2024-11-26T16:59:32.538Z"
   },
   {
    "duration": 44,
    "start_time": "2024-11-26T16:59:33.498Z"
   },
   {
    "duration": 21,
    "start_time": "2024-11-26T16:59:33.544Z"
   },
   {
    "duration": 250,
    "start_time": "2024-11-26T16:59:33.567Z"
   },
   {
    "duration": 4,
    "start_time": "2024-11-26T16:59:33.819Z"
   },
   {
    "duration": 237,
    "start_time": "2024-11-26T16:59:33.824Z"
   },
   {
    "duration": 9086,
    "start_time": "2024-11-26T16:59:34.062Z"
   },
   {
    "duration": 51671,
    "start_time": "2024-11-26T16:59:43.150Z"
   },
   {
    "duration": 7634,
    "start_time": "2024-11-26T17:00:34.824Z"
   },
   {
    "duration": 289,
    "start_time": "2024-11-26T17:00:42.459Z"
   },
   {
    "duration": 65,
    "start_time": "2024-11-26T17:00:42.750Z"
   },
   {
    "duration": 13,
    "start_time": "2024-11-26T17:00:42.817Z"
   },
   {
    "duration": 0,
    "start_time": "2024-11-26T17:00:42.832Z"
   },
   {
    "duration": 0,
    "start_time": "2024-11-26T17:00:42.834Z"
   },
   {
    "duration": 0,
    "start_time": "2024-11-26T17:00:42.836Z"
   },
   {
    "duration": 0,
    "start_time": "2024-11-26T17:00:42.837Z"
   },
   {
    "duration": 0,
    "start_time": "2024-11-26T17:00:42.839Z"
   },
   {
    "duration": 0,
    "start_time": "2024-11-26T17:00:42.840Z"
   },
   {
    "duration": 0,
    "start_time": "2024-11-26T17:00:42.842Z"
   },
   {
    "duration": 0,
    "start_time": "2024-11-26T17:00:42.843Z"
   },
   {
    "duration": 0,
    "start_time": "2024-11-26T17:00:42.845Z"
   },
   {
    "duration": 0,
    "start_time": "2024-11-26T17:00:42.846Z"
   },
   {
    "duration": 0,
    "start_time": "2024-11-26T17:00:42.848Z"
   },
   {
    "duration": 0,
    "start_time": "2024-11-26T17:00:42.850Z"
   },
   {
    "duration": 0,
    "start_time": "2024-11-26T17:00:42.851Z"
   },
   {
    "duration": 0,
    "start_time": "2024-11-26T17:00:42.852Z"
   },
   {
    "duration": 0,
    "start_time": "2024-11-26T17:00:42.854Z"
   },
   {
    "duration": 0,
    "start_time": "2024-11-26T17:00:42.856Z"
   },
   {
    "duration": 0,
    "start_time": "2024-11-26T17:00:42.857Z"
   },
   {
    "duration": 0,
    "start_time": "2024-11-26T17:00:42.898Z"
   },
   {
    "duration": 0,
    "start_time": "2024-11-26T17:00:42.900Z"
   },
   {
    "duration": 0,
    "start_time": "2024-11-26T17:00:42.901Z"
   },
   {
    "duration": 0,
    "start_time": "2024-11-26T17:00:42.903Z"
   },
   {
    "duration": 0,
    "start_time": "2024-11-26T17:00:42.904Z"
   },
   {
    "duration": 0,
    "start_time": "2024-11-26T17:00:42.906Z"
   },
   {
    "duration": 0,
    "start_time": "2024-11-26T17:00:42.907Z"
   },
   {
    "duration": 0,
    "start_time": "2024-11-26T17:00:42.909Z"
   },
   {
    "duration": 0,
    "start_time": "2024-11-26T17:00:42.910Z"
   },
   {
    "duration": 0,
    "start_time": "2024-11-26T17:00:42.912Z"
   },
   {
    "duration": 0,
    "start_time": "2024-11-26T17:00:42.913Z"
   },
   {
    "duration": 0,
    "start_time": "2024-11-26T17:00:42.915Z"
   },
   {
    "duration": 0,
    "start_time": "2024-11-26T17:00:42.916Z"
   },
   {
    "duration": 0,
    "start_time": "2024-11-26T17:00:42.918Z"
   },
   {
    "duration": 136,
    "start_time": "2024-11-26T17:04:09.190Z"
   },
   {
    "duration": 1317,
    "start_time": "2024-11-26T17:05:00.547Z"
   },
   {
    "duration": 4,
    "start_time": "2024-11-26T17:05:04.534Z"
   },
   {
    "duration": 92,
    "start_time": "2024-11-26T17:05:07.430Z"
   },
   {
    "duration": 15,
    "start_time": "2024-11-26T17:05:09.912Z"
   },
   {
    "duration": 4808,
    "start_time": "2024-11-26T17:05:42.134Z"
   },
   {
    "duration": 705,
    "start_time": "2024-11-26T17:06:43.489Z"
   },
   {
    "duration": 4691,
    "start_time": "2024-11-26T17:06:48.071Z"
   },
   {
    "duration": 323,
    "start_time": "2024-11-26T17:06:54.980Z"
   },
   {
    "duration": 12,
    "start_time": "2024-11-26T17:11:54.894Z"
   },
   {
    "duration": 26,
    "start_time": "2024-11-26T17:21:24.368Z"
   },
   {
    "duration": 814,
    "start_time": "2024-11-26T17:21:50.440Z"
   },
   {
    "duration": 573,
    "start_time": "2024-11-26T17:22:04.501Z"
   },
   {
    "duration": 828,
    "start_time": "2024-11-26T17:22:17.917Z"
   },
   {
    "duration": 14,
    "start_time": "2024-11-26T17:22:58.841Z"
   },
   {
    "duration": 9,
    "start_time": "2024-11-26T17:23:23.563Z"
   },
   {
    "duration": 27,
    "start_time": "2024-11-26T17:23:43.220Z"
   },
   {
    "duration": 17,
    "start_time": "2024-11-26T17:23:45.278Z"
   },
   {
    "duration": 15,
    "start_time": "2024-11-26T17:24:04.306Z"
   },
   {
    "duration": 11,
    "start_time": "2024-11-26T17:24:05.870Z"
   },
   {
    "duration": 272,
    "start_time": "2024-11-26T17:25:42.210Z"
   },
   {
    "duration": 15,
    "start_time": "2024-11-26T17:25:45.307Z"
   },
   {
    "duration": 1251,
    "start_time": "2024-11-26T17:27:05.379Z"
   },
   {
    "duration": 37165,
    "start_time": "2024-11-26T17:27:10.595Z"
   },
   {
    "duration": 1929,
    "start_time": "2024-11-26T17:29:40.953Z"
   },
   {
    "duration": 37925,
    "start_time": "2024-11-26T17:29:45.006Z"
   },
   {
    "duration": 37778,
    "start_time": "2024-11-26T17:32:44.268Z"
   },
   {
    "duration": 37133,
    "start_time": "2024-11-26T17:33:43.024Z"
   },
   {
    "duration": 40590,
    "start_time": "2024-11-26T17:36:15.061Z"
   },
   {
    "duration": 15,
    "start_time": "2024-11-26T17:38:41.855Z"
   },
   {
    "duration": 20759,
    "start_time": "2024-11-26T21:09:15.383Z"
   },
   {
    "duration": 1522,
    "start_time": "2024-11-26T21:09:36.145Z"
   },
   {
    "duration": 43,
    "start_time": "2024-11-26T21:09:37.669Z"
   },
   {
    "duration": 24,
    "start_time": "2024-11-26T21:09:37.713Z"
   },
   {
    "duration": 270,
    "start_time": "2024-11-26T21:09:37.740Z"
   },
   {
    "duration": 5,
    "start_time": "2024-11-26T21:09:38.011Z"
   },
   {
    "duration": 395,
    "start_time": "2024-11-26T21:09:38.017Z"
   },
   {
    "duration": 11105,
    "start_time": "2024-11-26T21:09:38.413Z"
   },
   {
    "duration": 61179,
    "start_time": "2024-11-26T21:09:49.531Z"
   },
   {
    "duration": 9168,
    "start_time": "2024-11-26T21:10:50.712Z"
   },
   {
    "duration": 390,
    "start_time": "2024-11-26T21:10:59.882Z"
   },
   {
    "duration": 76,
    "start_time": "2024-11-26T21:11:00.275Z"
   },
   {
    "duration": 1595,
    "start_time": "2024-11-26T21:11:00.354Z"
   },
   {
    "duration": 3,
    "start_time": "2024-11-26T21:11:01.952Z"
   },
   {
    "duration": 128,
    "start_time": "2024-11-26T21:11:01.957Z"
   },
   {
    "duration": 5565,
    "start_time": "2024-11-26T21:11:02.086Z"
   },
   {
    "duration": 1126,
    "start_time": "2024-11-26T21:11:07.653Z"
   },
   {
    "duration": 2221,
    "start_time": "2024-11-26T21:11:08.781Z"
   },
   {
    "duration": 42953,
    "start_time": "2024-11-26T21:11:11.004Z"
   },
   {
    "duration": 0,
    "start_time": "2024-11-26T21:11:53.959Z"
   },
   {
    "duration": 0,
    "start_time": "2024-11-26T21:11:53.961Z"
   },
   {
    "duration": 0,
    "start_time": "2024-11-26T21:11:53.963Z"
   },
   {
    "duration": 0,
    "start_time": "2024-11-26T21:11:53.964Z"
   },
   {
    "duration": 0,
    "start_time": "2024-11-26T21:11:53.966Z"
   },
   {
    "duration": 0,
    "start_time": "2024-11-26T21:11:53.967Z"
   },
   {
    "duration": 0,
    "start_time": "2024-11-26T21:11:53.968Z"
   },
   {
    "duration": 0,
    "start_time": "2024-11-26T21:11:53.969Z"
   },
   {
    "duration": 0,
    "start_time": "2024-11-26T21:11:53.970Z"
   },
   {
    "duration": 0,
    "start_time": "2024-11-26T21:11:53.972Z"
   },
   {
    "duration": 0,
    "start_time": "2024-11-26T21:11:53.974Z"
   },
   {
    "duration": 0,
    "start_time": "2024-11-26T21:11:53.975Z"
   },
   {
    "duration": 0,
    "start_time": "2024-11-26T21:11:53.977Z"
   },
   {
    "duration": 0,
    "start_time": "2024-11-26T21:11:53.979Z"
   },
   {
    "duration": 0,
    "start_time": "2024-11-26T21:11:53.980Z"
   },
   {
    "duration": 0,
    "start_time": "2024-11-26T21:11:53.982Z"
   },
   {
    "duration": 0,
    "start_time": "2024-11-26T21:11:53.983Z"
   },
   {
    "duration": 0,
    "start_time": "2024-11-26T21:11:53.984Z"
   },
   {
    "duration": 0,
    "start_time": "2024-11-26T21:11:53.985Z"
   },
   {
    "duration": 0,
    "start_time": "2024-11-26T21:11:54.021Z"
   },
   {
    "duration": 0,
    "start_time": "2024-11-26T21:11:54.024Z"
   },
   {
    "duration": 0,
    "start_time": "2024-11-26T21:11:54.027Z"
   },
   {
    "duration": 0,
    "start_time": "2024-11-26T21:11:54.028Z"
   },
   {
    "duration": 0,
    "start_time": "2024-11-26T21:11:54.029Z"
   },
   {
    "duration": 0,
    "start_time": "2024-11-26T21:11:54.030Z"
   },
   {
    "duration": 0,
    "start_time": "2024-11-26T21:11:54.033Z"
   },
   {
    "duration": 1,
    "start_time": "2024-11-26T21:11:54.036Z"
   },
   {
    "duration": 0,
    "start_time": "2024-11-26T21:11:54.040Z"
   },
   {
    "duration": 0,
    "start_time": "2024-11-26T21:11:54.042Z"
   },
   {
    "duration": 0,
    "start_time": "2024-11-26T21:11:54.045Z"
   },
   {
    "duration": 1745,
    "start_time": "2024-11-26T21:20:03.005Z"
   },
   {
    "duration": 44288,
    "start_time": "2024-11-26T21:21:25.765Z"
   },
   {
    "duration": 40615,
    "start_time": "2024-11-26T21:24:14.452Z"
   },
   {
    "duration": 65,
    "start_time": "2024-11-26T21:29:54.792Z"
   },
   {
    "duration": 13697,
    "start_time": "2024-11-26T21:35:00.853Z"
   },
   {
    "duration": 1067,
    "start_time": "2024-11-26T21:35:14.552Z"
   },
   {
    "duration": 46,
    "start_time": "2024-11-26T21:35:15.627Z"
   },
   {
    "duration": 31,
    "start_time": "2024-11-26T21:35:15.675Z"
   },
   {
    "duration": 285,
    "start_time": "2024-11-26T21:35:15.708Z"
   },
   {
    "duration": 4,
    "start_time": "2024-11-26T21:35:15.995Z"
   },
   {
    "duration": 261,
    "start_time": "2024-11-26T21:35:16.001Z"
   },
   {
    "duration": 9870,
    "start_time": "2024-11-26T21:35:16.264Z"
   },
   {
    "duration": 59421,
    "start_time": "2024-11-26T21:35:26.139Z"
   },
   {
    "duration": 8429,
    "start_time": "2024-11-26T21:36:25.562Z"
   },
   {
    "duration": 323,
    "start_time": "2024-11-26T21:36:33.992Z"
   },
   {
    "duration": 64,
    "start_time": "2024-11-26T21:36:34.317Z"
   },
   {
    "duration": 1626,
    "start_time": "2024-11-26T21:36:34.385Z"
   },
   {
    "duration": 17,
    "start_time": "2024-11-26T21:36:36.015Z"
   },
   {
    "duration": 104,
    "start_time": "2024-11-26T21:36:36.035Z"
   },
   {
    "duration": 4911,
    "start_time": "2024-11-26T21:36:36.141Z"
   },
   {
    "duration": 947,
    "start_time": "2024-11-26T21:36:41.055Z"
   },
   {
    "duration": 1996,
    "start_time": "2024-11-26T21:36:42.004Z"
   },
   {
    "duration": 1644,
    "start_time": "2024-11-26T21:36:44.003Z"
   },
   {
    "duration": 42264,
    "start_time": "2024-11-26T21:36:45.649Z"
   },
   {
    "duration": 0,
    "start_time": "2024-11-26T21:37:27.920Z"
   },
   {
    "duration": 0,
    "start_time": "2024-11-26T21:37:27.920Z"
   },
   {
    "duration": 0,
    "start_time": "2024-11-26T21:37:27.921Z"
   },
   {
    "duration": 0,
    "start_time": "2024-11-26T21:37:27.924Z"
   },
   {
    "duration": 0,
    "start_time": "2024-11-26T21:37:27.926Z"
   },
   {
    "duration": 0,
    "start_time": "2024-11-26T21:37:27.927Z"
   },
   {
    "duration": 0,
    "start_time": "2024-11-26T21:37:27.928Z"
   },
   {
    "duration": 0,
    "start_time": "2024-11-26T21:37:27.930Z"
   },
   {
    "duration": 0,
    "start_time": "2024-11-26T21:37:27.931Z"
   },
   {
    "duration": 0,
    "start_time": "2024-11-26T21:37:27.932Z"
   },
   {
    "duration": 0,
    "start_time": "2024-11-26T21:37:27.934Z"
   },
   {
    "duration": 0,
    "start_time": "2024-11-26T21:37:27.936Z"
   },
   {
    "duration": 0,
    "start_time": "2024-11-26T21:37:27.937Z"
   },
   {
    "duration": 0,
    "start_time": "2024-11-26T21:37:27.938Z"
   },
   {
    "duration": 0,
    "start_time": "2024-11-26T21:37:27.940Z"
   },
   {
    "duration": 0,
    "start_time": "2024-11-26T21:37:27.941Z"
   },
   {
    "duration": 0,
    "start_time": "2024-11-26T21:37:27.942Z"
   },
   {
    "duration": 0,
    "start_time": "2024-11-26T21:37:27.943Z"
   },
   {
    "duration": 0,
    "start_time": "2024-11-26T21:37:27.946Z"
   },
   {
    "duration": 0,
    "start_time": "2024-11-26T21:37:27.949Z"
   },
   {
    "duration": 0,
    "start_time": "2024-11-26T21:37:27.950Z"
   },
   {
    "duration": 0,
    "start_time": "2024-11-26T21:37:27.951Z"
   },
   {
    "duration": 0,
    "start_time": "2024-11-26T21:37:27.953Z"
   },
   {
    "duration": 0,
    "start_time": "2024-11-26T21:37:27.954Z"
   },
   {
    "duration": 0,
    "start_time": "2024-11-26T21:37:27.955Z"
   },
   {
    "duration": 0,
    "start_time": "2024-11-26T21:37:27.957Z"
   },
   {
    "duration": 0,
    "start_time": "2024-11-26T21:37:27.958Z"
   },
   {
    "duration": 0,
    "start_time": "2024-11-26T21:37:27.959Z"
   },
   {
    "duration": 0,
    "start_time": "2024-11-26T21:37:27.960Z"
   },
   {
    "duration": 0,
    "start_time": "2024-11-26T21:37:27.961Z"
   },
   {
    "duration": 0,
    "start_time": "2024-11-26T21:37:27.962Z"
   },
   {
    "duration": 0,
    "start_time": "2024-11-26T21:37:27.963Z"
   },
   {
    "duration": 5,
    "start_time": "2024-11-26T21:40:40.349Z"
   },
   {
    "duration": 18,
    "start_time": "2024-11-26T21:40:42.162Z"
   },
   {
    "duration": 12450,
    "start_time": "2024-11-26T21:41:23.367Z"
   },
   {
    "duration": 956,
    "start_time": "2024-11-26T21:41:35.820Z"
   },
   {
    "duration": 54,
    "start_time": "2024-11-26T21:41:36.778Z"
   },
   {
    "duration": 14,
    "start_time": "2024-11-26T21:41:36.833Z"
   },
   {
    "duration": 255,
    "start_time": "2024-11-26T21:41:36.849Z"
   },
   {
    "duration": 4,
    "start_time": "2024-11-26T21:41:37.106Z"
   },
   {
    "duration": 238,
    "start_time": "2024-11-26T21:41:37.120Z"
   },
   {
    "duration": 8644,
    "start_time": "2024-11-26T21:41:37.360Z"
   },
   {
    "duration": 52438,
    "start_time": "2024-11-26T21:41:46.007Z"
   },
   {
    "duration": 7404,
    "start_time": "2024-11-26T21:42:38.447Z"
   },
   {
    "duration": 322,
    "start_time": "2024-11-26T21:42:45.852Z"
   },
   {
    "duration": 66,
    "start_time": "2024-11-26T21:42:46.175Z"
   },
   {
    "duration": 1323,
    "start_time": "2024-11-26T21:42:46.243Z"
   },
   {
    "duration": 2,
    "start_time": "2024-11-26T21:42:47.570Z"
   },
   {
    "duration": 105,
    "start_time": "2024-11-26T21:42:47.574Z"
   },
   {
    "duration": 4596,
    "start_time": "2024-11-26T21:42:47.681Z"
   },
   {
    "duration": 882,
    "start_time": "2024-11-26T21:42:52.279Z"
   },
   {
    "duration": 10,
    "start_time": "2024-11-26T21:42:53.163Z"
   },
   {
    "duration": 1765,
    "start_time": "2024-11-26T21:42:53.174Z"
   },
   {
    "duration": 38080,
    "start_time": "2024-11-26T21:42:54.941Z"
   },
   {
    "duration": 0,
    "start_time": "2024-11-26T21:43:33.024Z"
   },
   {
    "duration": 0,
    "start_time": "2024-11-26T21:43:33.025Z"
   },
   {
    "duration": 0,
    "start_time": "2024-11-26T21:43:33.026Z"
   },
   {
    "duration": 0,
    "start_time": "2024-11-26T21:43:33.027Z"
   },
   {
    "duration": 0,
    "start_time": "2024-11-26T21:43:33.028Z"
   },
   {
    "duration": 0,
    "start_time": "2024-11-26T21:43:33.029Z"
   },
   {
    "duration": 0,
    "start_time": "2024-11-26T21:43:33.031Z"
   },
   {
    "duration": 0,
    "start_time": "2024-11-26T21:43:33.032Z"
   },
   {
    "duration": 0,
    "start_time": "2024-11-26T21:43:33.033Z"
   },
   {
    "duration": 0,
    "start_time": "2024-11-26T21:43:33.034Z"
   },
   {
    "duration": 0,
    "start_time": "2024-11-26T21:43:33.035Z"
   },
   {
    "duration": 0,
    "start_time": "2024-11-26T21:43:33.036Z"
   },
   {
    "duration": 0,
    "start_time": "2024-11-26T21:43:33.037Z"
   },
   {
    "duration": 0,
    "start_time": "2024-11-26T21:43:33.038Z"
   },
   {
    "duration": 0,
    "start_time": "2024-11-26T21:43:33.039Z"
   },
   {
    "duration": 0,
    "start_time": "2024-11-26T21:43:33.040Z"
   },
   {
    "duration": 0,
    "start_time": "2024-11-26T21:43:33.041Z"
   },
   {
    "duration": 0,
    "start_time": "2024-11-26T21:43:33.042Z"
   },
   {
    "duration": 0,
    "start_time": "2024-11-26T21:43:33.043Z"
   },
   {
    "duration": 0,
    "start_time": "2024-11-26T21:43:33.045Z"
   },
   {
    "duration": 0,
    "start_time": "2024-11-26T21:43:33.046Z"
   },
   {
    "duration": 0,
    "start_time": "2024-11-26T21:43:33.047Z"
   },
   {
    "duration": 0,
    "start_time": "2024-11-26T21:43:33.048Z"
   },
   {
    "duration": 0,
    "start_time": "2024-11-26T21:43:33.049Z"
   },
   {
    "duration": 0,
    "start_time": "2024-11-26T21:43:33.051Z"
   },
   {
    "duration": 0,
    "start_time": "2024-11-26T21:43:33.052Z"
   },
   {
    "duration": 0,
    "start_time": "2024-11-26T21:43:33.053Z"
   },
   {
    "duration": 0,
    "start_time": "2024-11-26T21:43:33.054Z"
   },
   {
    "duration": 0,
    "start_time": "2024-11-26T21:43:33.055Z"
   },
   {
    "duration": 0,
    "start_time": "2024-11-26T21:43:33.056Z"
   },
   {
    "duration": 0,
    "start_time": "2024-11-26T21:43:33.057Z"
   },
   {
    "duration": 0,
    "start_time": "2024-11-26T21:43:33.058Z"
   },
   {
    "duration": 0,
    "start_time": "2024-11-26T21:43:33.121Z"
   },
   {
    "duration": 0,
    "start_time": "2024-11-26T21:43:33.122Z"
   },
   {
    "duration": 101,
    "start_time": "2024-11-26T21:44:15.290Z"
   },
   {
    "duration": 1979,
    "start_time": "2024-11-26T21:48:14.445Z"
   },
   {
    "duration": 11,
    "start_time": "2024-11-26T22:17:48.527Z"
   },
   {
    "duration": 16,
    "start_time": "2024-11-26T22:17:51.050Z"
   },
   {
    "duration": 21,
    "start_time": "2024-11-26T22:18:01.804Z"
   },
   {
    "duration": 294,
    "start_time": "2024-11-26T22:19:09.248Z"
   },
   {
    "duration": 2779,
    "start_time": "2024-11-26T22:23:35.657Z"
   },
   {
    "duration": 932,
    "start_time": "2024-11-26T22:23:41.705Z"
   },
   {
    "duration": 12407,
    "start_time": "2024-11-26T22:27:17.643Z"
   },
   {
    "duration": 7704,
    "start_time": "2024-11-26T22:28:12.846Z"
   },
   {
    "duration": 892,
    "start_time": "2024-11-26T22:28:25.275Z"
   },
   {
    "duration": 207,
    "start_time": "2024-11-26T22:28:37.420Z"
   },
   {
    "duration": 4200,
    "start_time": "2024-11-26T22:28:48.095Z"
   },
   {
    "duration": 393,
    "start_time": "2024-11-26T22:28:56.443Z"
   },
   {
    "duration": 4815,
    "start_time": "2024-11-26T22:29:26.975Z"
   },
   {
    "duration": 397,
    "start_time": "2024-11-26T22:29:36.844Z"
   },
   {
    "duration": 1516,
    "start_time": "2024-11-26T22:29:49.460Z"
   },
   {
    "duration": 11127,
    "start_time": "2024-11-26T22:30:40.061Z"
   },
   {
    "duration": 1350,
    "start_time": "2024-11-26T22:30:51.191Z"
   },
   {
    "duration": 45,
    "start_time": "2024-11-26T22:30:52.542Z"
   },
   {
    "duration": 14,
    "start_time": "2024-11-26T22:30:52.589Z"
   },
   {
    "duration": 246,
    "start_time": "2024-11-26T22:30:52.605Z"
   },
   {
    "duration": 4,
    "start_time": "2024-11-26T22:30:52.853Z"
   },
   {
    "duration": 333,
    "start_time": "2024-11-26T22:30:52.858Z"
   },
   {
    "duration": 8977,
    "start_time": "2024-11-26T22:30:53.193Z"
   },
   {
    "duration": 8711,
    "start_time": "2024-11-26T22:31:05.197Z"
   },
   {
    "duration": 989,
    "start_time": "2024-11-26T22:31:13.911Z"
   },
   {
    "duration": 55,
    "start_time": "2024-11-26T22:31:14.902Z"
   },
   {
    "duration": 16,
    "start_time": "2024-11-26T22:31:14.959Z"
   },
   {
    "duration": 314,
    "start_time": "2024-11-26T22:31:14.978Z"
   },
   {
    "duration": 5,
    "start_time": "2024-11-26T22:31:15.294Z"
   },
   {
    "duration": 342,
    "start_time": "2024-11-26T22:31:15.300Z"
   },
   {
    "duration": 8893,
    "start_time": "2024-11-26T22:31:15.644Z"
   },
   {
    "duration": 52849,
    "start_time": "2024-11-26T22:31:24.538Z"
   },
   {
    "duration": 7708,
    "start_time": "2024-11-26T22:32:17.389Z"
   },
   {
    "duration": 328,
    "start_time": "2024-11-26T22:32:25.099Z"
   },
   {
    "duration": 58,
    "start_time": "2024-11-26T22:32:25.428Z"
   },
   {
    "duration": 1582,
    "start_time": "2024-11-26T22:32:25.488Z"
   },
   {
    "duration": 4,
    "start_time": "2024-11-26T22:32:27.074Z"
   },
   {
    "duration": 114,
    "start_time": "2024-11-26T22:32:27.080Z"
   },
   {
    "duration": 4632,
    "start_time": "2024-11-26T22:32:27.196Z"
   },
   {
    "duration": 922,
    "start_time": "2024-11-26T22:32:31.830Z"
   },
   {
    "duration": 6883,
    "start_time": "2024-11-26T22:32:32.755Z"
   },
   {
    "duration": 1523,
    "start_time": "2024-11-26T22:32:39.640Z"
   },
   {
    "duration": 39216,
    "start_time": "2024-11-26T22:32:41.165Z"
   },
   {
    "duration": 1392,
    "start_time": "2024-11-26T22:33:20.383Z"
   },
   {
    "duration": 39835,
    "start_time": "2024-11-26T22:33:21.777Z"
   },
   {
    "duration": 0,
    "start_time": "2024-11-26T22:34:01.615Z"
   },
   {
    "duration": 0,
    "start_time": "2024-11-26T22:34:01.616Z"
   },
   {
    "duration": 0,
    "start_time": "2024-11-26T22:34:01.617Z"
   },
   {
    "duration": 0,
    "start_time": "2024-11-26T22:34:01.619Z"
   },
   {
    "duration": 0,
    "start_time": "2024-11-26T22:34:01.621Z"
   },
   {
    "duration": 0,
    "start_time": "2024-11-26T22:34:01.622Z"
   },
   {
    "duration": 0,
    "start_time": "2024-11-26T22:34:01.623Z"
   },
   {
    "duration": 0,
    "start_time": "2024-11-26T22:34:01.625Z"
   },
   {
    "duration": 0,
    "start_time": "2024-11-26T22:34:01.627Z"
   },
   {
    "duration": 0,
    "start_time": "2024-11-26T22:34:01.628Z"
   },
   {
    "duration": 0,
    "start_time": "2024-11-26T22:34:01.630Z"
   },
   {
    "duration": 0,
    "start_time": "2024-11-26T22:34:01.632Z"
   },
   {
    "duration": 0,
    "start_time": "2024-11-26T22:34:01.633Z"
   },
   {
    "duration": 0,
    "start_time": "2024-11-26T22:34:01.635Z"
   },
   {
    "duration": 0,
    "start_time": "2024-11-26T22:34:01.636Z"
   },
   {
    "duration": 0,
    "start_time": "2024-11-26T22:34:01.639Z"
   },
   {
    "duration": 0,
    "start_time": "2024-11-26T22:34:01.640Z"
   },
   {
    "duration": 0,
    "start_time": "2024-11-26T22:34:01.642Z"
   },
   {
    "duration": 0,
    "start_time": "2024-11-26T22:34:01.644Z"
   },
   {
    "duration": 0,
    "start_time": "2024-11-26T22:34:01.646Z"
   },
   {
    "duration": 0,
    "start_time": "2024-11-26T22:34:01.648Z"
   },
   {
    "duration": 0,
    "start_time": "2024-11-26T22:34:01.649Z"
   },
   {
    "duration": 0,
    "start_time": "2024-11-26T22:34:01.651Z"
   },
   {
    "duration": 0,
    "start_time": "2024-11-26T22:34:01.652Z"
   },
   {
    "duration": 0,
    "start_time": "2024-11-26T22:34:01.654Z"
   },
   {
    "duration": 0,
    "start_time": "2024-11-26T22:34:01.656Z"
   },
   {
    "duration": 0,
    "start_time": "2024-11-26T22:34:01.657Z"
   },
   {
    "duration": 0,
    "start_time": "2024-11-26T22:34:01.659Z"
   },
   {
    "duration": 0,
    "start_time": "2024-11-26T22:34:01.721Z"
   },
   {
    "duration": 0,
    "start_time": "2024-11-26T22:34:01.723Z"
   },
   {
    "duration": 0,
    "start_time": "2024-11-26T22:34:01.725Z"
   },
   {
    "duration": 0,
    "start_time": "2024-11-26T22:34:01.727Z"
   },
   {
    "duration": 0,
    "start_time": "2024-11-26T22:34:01.728Z"
   },
   {
    "duration": 235,
    "start_time": "2024-11-26T22:34:50.017Z"
   },
   {
    "duration": 61,
    "start_time": "2024-11-26T22:36:26.856Z"
   },
   {
    "duration": 483,
    "start_time": "2024-11-26T22:37:36.446Z"
   },
   {
    "duration": 3694,
    "start_time": "2024-11-26T22:37:40.486Z"
   },
   {
    "duration": 210,
    "start_time": "2024-11-26T22:37:46.976Z"
   },
   {
    "duration": 14624,
    "start_time": "2024-11-26T22:47:33.539Z"
   },
   {
    "duration": 1034,
    "start_time": "2024-11-26T22:47:48.166Z"
   },
   {
    "duration": 59,
    "start_time": "2024-11-26T22:47:49.202Z"
   },
   {
    "duration": 17,
    "start_time": "2024-11-26T22:47:49.263Z"
   },
   {
    "duration": 299,
    "start_time": "2024-11-26T22:47:49.283Z"
   },
   {
    "duration": 5,
    "start_time": "2024-11-26T22:47:49.584Z"
   },
   {
    "duration": 412,
    "start_time": "2024-11-26T22:47:49.590Z"
   },
   {
    "duration": 10178,
    "start_time": "2024-11-26T22:47:50.003Z"
   },
   {
    "duration": 57550,
    "start_time": "2024-11-26T22:48:00.183Z"
   },
   {
    "duration": 8394,
    "start_time": "2024-11-26T22:48:57.735Z"
   },
   {
    "duration": 325,
    "start_time": "2024-11-26T22:49:06.131Z"
   },
   {
    "duration": 80,
    "start_time": "2024-11-26T22:49:06.459Z"
   },
   {
    "duration": 1473,
    "start_time": "2024-11-26T22:49:06.542Z"
   },
   {
    "duration": 89,
    "start_time": "2024-11-26T22:49:08.018Z"
   },
   {
    "duration": 5008,
    "start_time": "2024-11-26T22:49:08.109Z"
   },
   {
    "duration": 904,
    "start_time": "2024-11-26T22:49:13.121Z"
   },
   {
    "duration": 796,
    "start_time": "2024-11-26T22:49:14.028Z"
   },
   {
    "duration": 3741,
    "start_time": "2024-11-26T22:49:14.826Z"
   },
   {
    "duration": 335,
    "start_time": "2024-11-26T22:49:18.569Z"
   },
   {
    "duration": 3,
    "start_time": "2024-11-26T22:49:18.905Z"
   },
   {
    "duration": 7,
    "start_time": "2024-11-26T22:49:18.910Z"
   },
   {
    "duration": 11,
    "start_time": "2024-11-26T22:49:18.919Z"
   },
   {
    "duration": 916265,
    "start_time": "2024-11-26T22:49:18.932Z"
   },
   {
    "duration": 20,
    "start_time": "2024-11-26T23:04:35.200Z"
   },
   {
    "duration": 61,
    "start_time": "2024-11-26T23:04:35.223Z"
   },
   {
    "duration": 77,
    "start_time": "2024-11-26T23:04:35.286Z"
   },
   {
    "duration": 6122,
    "start_time": "2024-11-26T23:04:35.365Z"
   },
   {
    "duration": 21,
    "start_time": "2024-11-26T23:04:41.489Z"
   },
   {
    "duration": 4,
    "start_time": "2024-11-26T23:04:41.521Z"
   },
   {
    "duration": 16,
    "start_time": "2024-11-26T23:04:41.527Z"
   },
   {
    "duration": 559533,
    "start_time": "2024-11-26T23:04:41.545Z"
   },
   {
    "duration": 3848,
    "start_time": "2024-11-26T23:14:01.080Z"
   },
   {
    "duration": 10,
    "start_time": "2024-11-26T23:14:04.930Z"
   },
   {
    "duration": 24,
    "start_time": "2024-11-26T23:14:04.941Z"
   },
   {
    "duration": 3,
    "start_time": "2024-11-26T23:14:04.967Z"
   },
   {
    "duration": 367009,
    "start_time": "2024-11-26T23:14:04.971Z"
   },
   {
    "duration": 29622,
    "start_time": "2024-11-26T23:20:11.982Z"
   },
   {
    "duration": 40,
    "start_time": "2024-11-26T23:20:41.606Z"
   },
   {
    "duration": 30,
    "start_time": "2024-11-26T23:20:41.648Z"
   },
   {
    "duration": 3,
    "start_time": "2024-11-26T23:20:41.680Z"
   },
   {
    "duration": 893856,
    "start_time": "2024-11-26T23:20:41.688Z"
   },
   {
    "duration": 31197,
    "start_time": "2024-11-26T23:35:35.546Z"
   },
   {
    "duration": 1670,
    "start_time": "2024-11-26T23:36:06.746Z"
   },
   {
    "duration": 4,
    "start_time": "2024-11-26T23:36:08.418Z"
   },
   {
    "duration": 22,
    "start_time": "2024-11-26T23:36:08.424Z"
   },
   {
    "duration": 23,
    "start_time": "2024-11-26T23:36:08.448Z"
   },
   {
    "duration": 84,
    "start_time": "2024-11-26T23:36:08.473Z"
   },
   {
    "duration": 23609,
    "start_time": "2024-11-27T09:16:52.790Z"
   },
   {
    "duration": 0,
    "start_time": "2024-11-27T09:17:16.403Z"
   },
   {
    "duration": 0,
    "start_time": "2024-11-27T09:17:16.404Z"
   },
   {
    "duration": 0,
    "start_time": "2024-11-27T09:17:16.405Z"
   },
   {
    "duration": 0,
    "start_time": "2024-11-27T09:17:16.406Z"
   },
   {
    "duration": 0,
    "start_time": "2024-11-27T09:17:16.408Z"
   },
   {
    "duration": 0,
    "start_time": "2024-11-27T09:17:16.409Z"
   },
   {
    "duration": 0,
    "start_time": "2024-11-27T09:17:16.410Z"
   },
   {
    "duration": 0,
    "start_time": "2024-11-27T09:17:16.411Z"
   },
   {
    "duration": 0,
    "start_time": "2024-11-27T09:17:16.412Z"
   },
   {
    "duration": 0,
    "start_time": "2024-11-27T09:17:16.413Z"
   },
   {
    "duration": 0,
    "start_time": "2024-11-27T09:17:16.415Z"
   },
   {
    "duration": 0,
    "start_time": "2024-11-27T09:17:16.416Z"
   },
   {
    "duration": 0,
    "start_time": "2024-11-27T09:17:16.417Z"
   },
   {
    "duration": 0,
    "start_time": "2024-11-27T09:17:16.418Z"
   },
   {
    "duration": 0,
    "start_time": "2024-11-27T09:17:16.419Z"
   },
   {
    "duration": 0,
    "start_time": "2024-11-27T09:17:16.420Z"
   },
   {
    "duration": 0,
    "start_time": "2024-11-27T09:17:16.442Z"
   },
   {
    "duration": 0,
    "start_time": "2024-11-27T09:17:16.444Z"
   },
   {
    "duration": 0,
    "start_time": "2024-11-27T09:17:16.446Z"
   },
   {
    "duration": 0,
    "start_time": "2024-11-27T09:17:16.447Z"
   },
   {
    "duration": 0,
    "start_time": "2024-11-27T09:17:16.448Z"
   },
   {
    "duration": 0,
    "start_time": "2024-11-27T09:17:16.449Z"
   },
   {
    "duration": 0,
    "start_time": "2024-11-27T09:17:16.450Z"
   },
   {
    "duration": 0,
    "start_time": "2024-11-27T09:17:16.451Z"
   },
   {
    "duration": 0,
    "start_time": "2024-11-27T09:17:16.452Z"
   },
   {
    "duration": 0,
    "start_time": "2024-11-27T09:17:16.454Z"
   },
   {
    "duration": 0,
    "start_time": "2024-11-27T09:17:16.455Z"
   },
   {
    "duration": 0,
    "start_time": "2024-11-27T09:17:16.456Z"
   },
   {
    "duration": 0,
    "start_time": "2024-11-27T09:17:16.457Z"
   },
   {
    "duration": 0,
    "start_time": "2024-11-27T09:17:16.458Z"
   },
   {
    "duration": 0,
    "start_time": "2024-11-27T09:17:16.459Z"
   },
   {
    "duration": 0,
    "start_time": "2024-11-27T09:17:16.460Z"
   },
   {
    "duration": 0,
    "start_time": "2024-11-27T09:17:16.461Z"
   },
   {
    "duration": 0,
    "start_time": "2024-11-27T09:17:16.462Z"
   },
   {
    "duration": 0,
    "start_time": "2024-11-27T09:17:16.463Z"
   },
   {
    "duration": 0,
    "start_time": "2024-11-27T09:17:16.465Z"
   },
   {
    "duration": 0,
    "start_time": "2024-11-27T09:17:16.467Z"
   },
   {
    "duration": 0,
    "start_time": "2024-11-27T09:17:16.469Z"
   },
   {
    "duration": 0,
    "start_time": "2024-11-27T09:17:16.470Z"
   },
   {
    "duration": 0,
    "start_time": "2024-11-27T09:17:16.471Z"
   },
   {
    "duration": 0,
    "start_time": "2024-11-27T09:17:16.472Z"
   },
   {
    "duration": 0,
    "start_time": "2024-11-27T09:17:16.473Z"
   },
   {
    "duration": 0,
    "start_time": "2024-11-27T09:17:16.474Z"
   },
   {
    "duration": 0,
    "start_time": "2024-11-27T09:17:16.476Z"
   },
   {
    "duration": 0,
    "start_time": "2024-11-27T09:17:16.476Z"
   },
   {
    "duration": 0,
    "start_time": "2024-11-27T09:17:16.478Z"
   },
   {
    "duration": 10072,
    "start_time": "2024-11-27T09:19:12.304Z"
   },
   {
    "duration": 6609,
    "start_time": "2024-11-27T09:19:22.378Z"
   },
   {
    "duration": 1300,
    "start_time": "2024-11-27T09:19:28.989Z"
   },
   {
    "duration": 56,
    "start_time": "2024-11-27T09:19:30.291Z"
   },
   {
    "duration": 64,
    "start_time": "2024-11-27T09:19:30.349Z"
   },
   {
    "duration": 258,
    "start_time": "2024-11-27T09:19:30.415Z"
   },
   {
    "duration": 4,
    "start_time": "2024-11-27T09:19:30.675Z"
   },
   {
    "duration": 354,
    "start_time": "2024-11-27T09:19:30.681Z"
   },
   {
    "duration": 8403,
    "start_time": "2024-11-27T09:19:31.036Z"
   },
   {
    "duration": 50576,
    "start_time": "2024-11-27T09:19:39.441Z"
   },
   {
    "duration": 7105,
    "start_time": "2024-11-27T09:20:30.019Z"
   },
   {
    "duration": 268,
    "start_time": "2024-11-27T09:20:37.126Z"
   },
   {
    "duration": 63,
    "start_time": "2024-11-27T09:20:37.395Z"
   },
   {
    "duration": 1402,
    "start_time": "2024-11-27T09:20:37.461Z"
   },
   {
    "duration": 93,
    "start_time": "2024-11-27T09:20:38.865Z"
   },
   {
    "duration": 4315,
    "start_time": "2024-11-27T09:20:38.959Z"
   },
   {
    "duration": 822,
    "start_time": "2024-11-27T09:20:43.276Z"
   },
   {
    "duration": 728,
    "start_time": "2024-11-27T09:20:44.100Z"
   },
   {
    "duration": 3354,
    "start_time": "2024-11-27T09:20:44.830Z"
   },
   {
    "duration": 241,
    "start_time": "2024-11-27T09:20:48.186Z"
   },
   {
    "duration": 3,
    "start_time": "2024-11-27T09:20:48.429Z"
   },
   {
    "duration": 8,
    "start_time": "2024-11-27T09:20:48.434Z"
   },
   {
    "duration": 14,
    "start_time": "2024-11-27T09:20:48.444Z"
   },
   {
    "duration": 821250,
    "start_time": "2024-11-27T09:20:48.460Z"
   },
   {
    "duration": 7,
    "start_time": "2024-11-27T09:34:29.712Z"
   },
   {
    "duration": 55,
    "start_time": "2024-11-27T09:34:29.721Z"
   },
   {
    "duration": 74,
    "start_time": "2024-11-27T09:34:29.778Z"
   },
   {
    "duration": 3,
    "start_time": "2024-11-27T09:34:29.853Z"
   },
   {
    "duration": 138,
    "start_time": "2024-11-27T09:34:29.858Z"
   },
   {
    "duration": 6,
    "start_time": "2024-11-27T09:34:29.998Z"
   },
   {
    "duration": 257,
    "start_time": "2024-11-27T09:34:30.005Z"
   },
   {
    "duration": 1,
    "start_time": "2024-11-27T09:34:30.263Z"
   },
   {
    "duration": 0,
    "start_time": "2024-11-27T09:34:30.266Z"
   },
   {
    "duration": 0,
    "start_time": "2024-11-27T09:34:30.267Z"
   },
   {
    "duration": 1,
    "start_time": "2024-11-27T09:34:30.268Z"
   },
   {
    "duration": 0,
    "start_time": "2024-11-27T09:34:30.270Z"
   },
   {
    "duration": 0,
    "start_time": "2024-11-27T09:34:30.271Z"
   },
   {
    "duration": 0,
    "start_time": "2024-11-27T09:34:30.272Z"
   },
   {
    "duration": 0,
    "start_time": "2024-11-27T09:34:30.274Z"
   },
   {
    "duration": 0,
    "start_time": "2024-11-27T09:34:30.275Z"
   },
   {
    "duration": 0,
    "start_time": "2024-11-27T09:34:30.276Z"
   },
   {
    "duration": 0,
    "start_time": "2024-11-27T09:34:30.277Z"
   },
   {
    "duration": 0,
    "start_time": "2024-11-27T09:34:30.278Z"
   },
   {
    "duration": 0,
    "start_time": "2024-11-27T09:34:30.279Z"
   },
   {
    "duration": 0,
    "start_time": "2024-11-27T09:34:30.280Z"
   },
   {
    "duration": 0,
    "start_time": "2024-11-27T09:34:30.281Z"
   },
   {
    "duration": 0,
    "start_time": "2024-11-27T09:34:30.283Z"
   },
   {
    "duration": 0,
    "start_time": "2024-11-27T09:34:30.284Z"
   },
   {
    "duration": 4,
    "start_time": "2024-11-27T09:36:28.955Z"
   },
   {
    "duration": 4,
    "start_time": "2024-11-27T09:36:35.296Z"
   },
   {
    "duration": 33,
    "start_time": "2024-11-27T09:36:35.301Z"
   },
   {
    "duration": 824,
    "start_time": "2024-11-27T09:36:35.464Z"
   },
   {
    "duration": 0,
    "start_time": "2024-11-27T09:36:36.290Z"
   },
   {
    "duration": 0,
    "start_time": "2024-11-27T09:36:36.292Z"
   },
   {
    "duration": 0,
    "start_time": "2024-11-27T09:36:36.293Z"
   },
   {
    "duration": 0,
    "start_time": "2024-11-27T09:36:36.294Z"
   },
   {
    "duration": 11,
    "start_time": "2024-11-27T09:36:36.543Z"
   },
   {
    "duration": 113,
    "start_time": "2024-11-27T09:36:36.593Z"
   },
   {
    "duration": 87,
    "start_time": "2024-11-27T09:36:37.513Z"
   },
   {
    "duration": 10,
    "start_time": "2024-11-27T09:36:37.602Z"
   },
   {
    "duration": 0,
    "start_time": "2024-11-27T09:36:37.613Z"
   },
   {
    "duration": 12,
    "start_time": "2024-11-27T09:36:39.050Z"
   },
   {
    "duration": 0,
    "start_time": "2024-11-27T09:36:39.064Z"
   },
   {
    "duration": 0,
    "start_time": "2024-11-27T09:36:39.065Z"
   },
   {
    "duration": 0,
    "start_time": "2024-11-27T09:36:39.066Z"
   },
   {
    "duration": 0,
    "start_time": "2024-11-27T09:36:39.067Z"
   },
   {
    "duration": 42,
    "start_time": "2024-11-27T09:36:39.069Z"
   },
   {
    "duration": 24,
    "start_time": "2024-11-27T09:37:59.596Z"
   },
   {
    "duration": 4,
    "start_time": "2024-11-27T09:38:01.951Z"
   },
   {
    "duration": 834,
    "start_time": "2024-11-27T09:38:24.398Z"
   },
   {
    "duration": 20,
    "start_time": "2024-11-27T09:41:13.884Z"
   },
   {
    "duration": 12,
    "start_time": "2024-11-27T09:41:16.708Z"
   },
   {
    "duration": 4,
    "start_time": "2024-11-27T09:41:19.068Z"
   },
   {
    "duration": 3,
    "start_time": "2024-11-27T09:41:25.051Z"
   },
   {
    "duration": 17183,
    "start_time": "2024-11-27T09:52:04.262Z"
   },
   {
    "duration": 949,
    "start_time": "2024-11-27T09:52:21.447Z"
   },
   {
    "duration": 65,
    "start_time": "2024-11-27T09:52:22.398Z"
   },
   {
    "duration": 20,
    "start_time": "2024-11-27T09:52:22.466Z"
   },
   {
    "duration": 286,
    "start_time": "2024-11-27T09:52:22.488Z"
   },
   {
    "duration": 6,
    "start_time": "2024-11-27T09:52:22.776Z"
   },
   {
    "duration": 388,
    "start_time": "2024-11-27T09:52:22.783Z"
   },
   {
    "duration": 8348,
    "start_time": "2024-11-27T09:52:23.173Z"
   },
   {
    "duration": 50360,
    "start_time": "2024-11-27T09:52:31.523Z"
   },
   {
    "duration": 7252,
    "start_time": "2024-11-27T09:53:21.885Z"
   },
   {
    "duration": 278,
    "start_time": "2024-11-27T09:53:29.139Z"
   },
   {
    "duration": 63,
    "start_time": "2024-11-27T09:53:29.419Z"
   },
   {
    "duration": 1525,
    "start_time": "2024-11-27T09:53:29.485Z"
   },
   {
    "duration": 96,
    "start_time": "2024-11-27T09:53:31.013Z"
   },
   {
    "duration": 4402,
    "start_time": "2024-11-27T09:53:31.111Z"
   },
   {
    "duration": 845,
    "start_time": "2024-11-27T09:53:35.515Z"
   },
   {
    "duration": 771,
    "start_time": "2024-11-27T09:53:36.362Z"
   },
   {
    "duration": 3411,
    "start_time": "2024-11-27T09:53:37.135Z"
   },
   {
    "duration": 243,
    "start_time": "2024-11-27T09:53:40.548Z"
   },
   {
    "duration": 3,
    "start_time": "2024-11-27T09:53:40.793Z"
   },
   {
    "duration": 71,
    "start_time": "2024-11-27T09:53:40.798Z"
   },
   {
    "duration": 12,
    "start_time": "2024-11-27T09:53:40.871Z"
   },
   {
    "duration": 820160,
    "start_time": "2024-11-27T09:53:40.885Z"
   },
   {
    "duration": 6,
    "start_time": "2024-11-27T10:07:21.047Z"
   },
   {
    "duration": 71,
    "start_time": "2024-11-27T10:07:21.054Z"
   },
   {
    "duration": 100,
    "start_time": "2024-11-27T10:07:21.126Z"
   },
   {
    "duration": 3,
    "start_time": "2024-11-27T10:07:21.228Z"
   },
   {
    "duration": 33,
    "start_time": "2024-11-27T10:07:21.232Z"
   },
   {
    "duration": 5,
    "start_time": "2024-11-27T10:07:21.266Z"
   },
   {
    "duration": 35,
    "start_time": "2024-11-27T10:07:21.273Z"
   },
   {
    "duration": 142,
    "start_time": "2024-11-27T10:07:21.309Z"
   },
   {
    "duration": 0,
    "start_time": "2024-11-27T10:07:21.453Z"
   },
   {
    "duration": 0,
    "start_time": "2024-11-27T10:07:21.455Z"
   },
   {
    "duration": 0,
    "start_time": "2024-11-27T10:07:21.456Z"
   },
   {
    "duration": 0,
    "start_time": "2024-11-27T10:07:21.457Z"
   },
   {
    "duration": 0,
    "start_time": "2024-11-27T10:07:21.459Z"
   },
   {
    "duration": 0,
    "start_time": "2024-11-27T10:07:21.460Z"
   },
   {
    "duration": 0,
    "start_time": "2024-11-27T10:07:21.462Z"
   },
   {
    "duration": 1,
    "start_time": "2024-11-27T10:07:21.463Z"
   },
   {
    "duration": 0,
    "start_time": "2024-11-27T10:07:21.465Z"
   },
   {
    "duration": 0,
    "start_time": "2024-11-27T10:07:21.466Z"
   },
   {
    "duration": 0,
    "start_time": "2024-11-27T10:07:21.468Z"
   },
   {
    "duration": 0,
    "start_time": "2024-11-27T10:07:21.469Z"
   },
   {
    "duration": 0,
    "start_time": "2024-11-27T10:07:21.471Z"
   },
   {
    "duration": 0,
    "start_time": "2024-11-27T10:07:21.472Z"
   },
   {
    "duration": 0,
    "start_time": "2024-11-27T10:07:21.473Z"
   },
   {
    "duration": 0,
    "start_time": "2024-11-27T10:07:21.475Z"
   },
   {
    "duration": 0,
    "start_time": "2024-11-27T10:07:21.476Z"
   },
   {
    "duration": 16,
    "start_time": "2024-11-27T10:08:05.030Z"
   },
   {
    "duration": 3,
    "start_time": "2024-11-27T10:09:04.993Z"
   },
   {
    "duration": 3,
    "start_time": "2024-11-27T10:09:08.266Z"
   },
   {
    "duration": 770210,
    "start_time": "2024-11-27T10:09:11.540Z"
   },
   {
    "duration": 8110,
    "start_time": "2024-11-27T10:26:31.578Z"
   },
   {
    "duration": 1252,
    "start_time": "2024-11-27T10:33:02.466Z"
   },
   {
    "duration": 4,
    "start_time": "2024-11-27T10:33:42.724Z"
   },
   {
    "duration": 14,
    "start_time": "2024-11-27T10:38:34.189Z"
   },
   {
    "duration": 6,
    "start_time": "2024-11-27T10:38:46.690Z"
   },
   {
    "duration": 225,
    "start_time": "2024-11-27T11:03:12.554Z"
   },
   {
    "duration": 49,
    "start_time": "2024-11-27T11:03:23.817Z"
   },
   {
    "duration": 36,
    "start_time": "2024-11-27T11:03:37.788Z"
   },
   {
    "duration": 26,
    "start_time": "2024-11-27T11:03:55.352Z"
   },
   {
    "duration": 28,
    "start_time": "2024-11-27T11:06:25.545Z"
   },
   {
    "duration": 21,
    "start_time": "2024-11-27T11:06:47.177Z"
   },
   {
    "duration": 287,
    "start_time": "2024-11-27T11:07:06.203Z"
   },
   {
    "duration": 259,
    "start_time": "2024-11-27T11:08:06.278Z"
   },
   {
    "duration": 934,
    "start_time": "2024-11-27T11:08:19.087Z"
   },
   {
    "duration": 258,
    "start_time": "2024-11-27T11:08:34.981Z"
   },
   {
    "duration": 256,
    "start_time": "2024-11-27T11:09:00.735Z"
   },
   {
    "duration": 264,
    "start_time": "2024-11-27T11:09:14.539Z"
   },
   {
    "duration": 27,
    "start_time": "2024-11-27T11:10:09.605Z"
   },
   {
    "duration": 87,
    "start_time": "2024-11-27T11:22:39.632Z"
   },
   {
    "duration": 17885,
    "start_time": "2024-11-27T11:42:42.417Z"
   },
   {
    "duration": 982,
    "start_time": "2024-11-27T11:43:00.305Z"
   },
   {
    "duration": 55,
    "start_time": "2024-11-27T11:43:01.289Z"
   },
   {
    "duration": 29,
    "start_time": "2024-11-27T11:43:01.345Z"
   },
   {
    "duration": 252,
    "start_time": "2024-11-27T11:43:01.376Z"
   },
   {
    "duration": 4,
    "start_time": "2024-11-27T11:43:01.630Z"
   },
   {
    "duration": 308,
    "start_time": "2024-11-27T11:43:01.635Z"
   },
   {
    "duration": 8437,
    "start_time": "2024-11-27T11:43:01.945Z"
   },
   {
    "duration": 50384,
    "start_time": "2024-11-27T11:43:10.383Z"
   },
   {
    "duration": 7218,
    "start_time": "2024-11-27T11:44:00.769Z"
   },
   {
    "duration": 287,
    "start_time": "2024-11-27T11:44:07.989Z"
   },
   {
    "duration": 68,
    "start_time": "2024-11-27T11:44:08.278Z"
   },
   {
    "duration": 1321,
    "start_time": "2024-11-27T11:44:08.348Z"
   },
   {
    "duration": 91,
    "start_time": "2024-11-27T11:44:09.673Z"
   },
   {
    "duration": 4424,
    "start_time": "2024-11-27T11:44:09.766Z"
   },
   {
    "duration": 819,
    "start_time": "2024-11-27T11:44:14.191Z"
   },
   {
    "duration": 771,
    "start_time": "2024-11-27T11:44:15.012Z"
   },
   {
    "duration": 3376,
    "start_time": "2024-11-27T11:44:15.785Z"
   },
   {
    "duration": 240,
    "start_time": "2024-11-27T11:44:19.163Z"
   },
   {
    "duration": 53,
    "start_time": "2024-11-27T11:44:19.405Z"
   },
   {
    "duration": 3,
    "start_time": "2024-11-27T11:44:19.459Z"
   },
   {
    "duration": 55,
    "start_time": "2024-11-27T11:44:19.464Z"
   },
   {
    "duration": 24,
    "start_time": "2024-11-27T11:44:19.521Z"
   },
   {
    "duration": 820218,
    "start_time": "2024-11-27T11:44:19.546Z"
   },
   {
    "duration": 6,
    "start_time": "2024-11-27T11:57:59.765Z"
   },
   {
    "duration": 49,
    "start_time": "2024-11-27T11:57:59.772Z"
   },
   {
    "duration": 75,
    "start_time": "2024-11-27T11:57:59.823Z"
   },
   {
    "duration": 3,
    "start_time": "2024-11-27T11:57:59.900Z"
   },
   {
    "duration": 24,
    "start_time": "2024-11-27T11:57:59.904Z"
   },
   {
    "duration": 5,
    "start_time": "2024-11-27T11:57:59.931Z"
   },
   {
    "duration": 9,
    "start_time": "2024-11-27T11:57:59.938Z"
   },
   {
    "duration": 9,
    "start_time": "2024-11-27T11:57:59.950Z"
   },
   {
    "duration": 10,
    "start_time": "2024-11-27T11:57:59.961Z"
   },
   {
    "duration": 783272,
    "start_time": "2024-11-27T11:57:59.973Z"
   },
   {
    "duration": 9091,
    "start_time": "2024-11-27T12:11:03.247Z"
   },
   {
    "duration": 1463,
    "start_time": "2024-11-27T12:11:12.340Z"
   },
   {
    "duration": 281,
    "start_time": "2024-11-27T12:11:13.804Z"
   },
   {
    "duration": 47,
    "start_time": "2024-11-27T12:11:14.086Z"
   },
   {
    "duration": 36,
    "start_time": "2024-11-27T12:11:14.135Z"
   },
   {
    "duration": 302,
    "start_time": "2024-11-27T12:11:14.173Z"
   },
   {
    "duration": 18,
    "start_time": "2024-11-27T12:11:14.479Z"
   },
   {
    "duration": 28,
    "start_time": "2024-11-27T12:11:14.499Z"
   },
   {
    "duration": 28,
    "start_time": "2024-11-27T12:11:14.528Z"
   },
   {
    "duration": 241378,
    "start_time": "2024-11-27T12:11:14.558Z"
   },
   {
    "duration": 31470,
    "start_time": "2024-11-27T12:15:15.937Z"
   },
   {
    "duration": 1296,
    "start_time": "2024-11-27T12:15:47.409Z"
   },
   {
    "duration": 16,
    "start_time": "2024-11-27T12:15:48.707Z"
   },
   {
    "duration": 60,
    "start_time": "2024-11-27T12:15:48.725Z"
   },
   {
    "duration": 28,
    "start_time": "2024-11-27T12:15:48.787Z"
   },
   {
    "duration": 241946,
    "start_time": "2024-11-27T12:15:48.818Z"
   },
   {
    "duration": 34651,
    "start_time": "2024-11-27T12:19:50.768Z"
   },
   {
    "duration": 3097,
    "start_time": "2024-11-27T12:20:25.421Z"
   },
   {
    "duration": 3,
    "start_time": "2024-11-27T12:20:28.519Z"
   },
   {
    "duration": 63,
    "start_time": "2024-11-27T12:20:28.523Z"
   },
   {
    "duration": 25,
    "start_time": "2024-11-27T12:20:28.587Z"
   },
   {
    "duration": 19806,
    "start_time": "2024-11-27T13:01:07.162Z"
   },
   {
    "duration": 1016,
    "start_time": "2024-11-27T13:01:26.970Z"
   },
   {
    "duration": 45,
    "start_time": "2024-11-27T13:01:27.988Z"
   },
   {
    "duration": 25,
    "start_time": "2024-11-27T13:01:28.047Z"
   },
   {
    "duration": 297,
    "start_time": "2024-11-27T13:01:28.073Z"
   },
   {
    "duration": 5,
    "start_time": "2024-11-27T13:01:28.372Z"
   },
   {
    "duration": 324,
    "start_time": "2024-11-27T13:01:28.379Z"
   },
   {
    "duration": 9234,
    "start_time": "2024-11-27T13:01:28.705Z"
   },
   {
    "duration": 57947,
    "start_time": "2024-11-27T13:01:37.943Z"
   },
   {
    "duration": 8324,
    "start_time": "2024-11-27T13:02:35.893Z"
   },
   {
    "duration": 310,
    "start_time": "2024-11-27T13:02:44.219Z"
   },
   {
    "duration": 62,
    "start_time": "2024-11-27T13:02:44.531Z"
   },
   {
    "duration": 1466,
    "start_time": "2024-11-27T13:02:44.595Z"
   },
   {
    "duration": 106,
    "start_time": "2024-11-27T13:02:46.063Z"
   },
   {
    "duration": 5092,
    "start_time": "2024-11-27T13:02:46.170Z"
   },
   {
    "duration": 907,
    "start_time": "2024-11-27T13:02:51.264Z"
   },
   {
    "duration": 800,
    "start_time": "2024-11-27T13:02:52.173Z"
   },
   {
    "duration": 3648,
    "start_time": "2024-11-27T13:02:52.974Z"
   },
   {
    "duration": 283,
    "start_time": "2024-11-27T13:02:56.624Z"
   },
   {
    "duration": 3,
    "start_time": "2024-11-27T13:02:56.909Z"
   },
   {
    "duration": 73,
    "start_time": "2024-11-27T13:02:56.914Z"
   },
   {
    "duration": 6,
    "start_time": "2024-11-27T13:02:56.989Z"
   },
   {
    "duration": 914186,
    "start_time": "2024-11-27T13:02:56.996Z"
   },
   {
    "duration": 6,
    "start_time": "2024-11-27T13:18:11.184Z"
   },
   {
    "duration": 75,
    "start_time": "2024-11-27T13:18:11.191Z"
   },
   {
    "duration": 70,
    "start_time": "2024-11-27T13:18:11.268Z"
   },
   {
    "duration": 25,
    "start_time": "2024-11-27T13:18:11.339Z"
   },
   {
    "duration": 3,
    "start_time": "2024-11-27T13:18:11.368Z"
   },
   {
    "duration": 29,
    "start_time": "2024-11-27T13:18:11.372Z"
   },
   {
    "duration": 794668,
    "start_time": "2024-11-27T13:18:11.403Z"
   },
   {
    "duration": 9545,
    "start_time": "2024-11-27T13:31:26.073Z"
   },
   {
    "duration": 1562,
    "start_time": "2024-11-27T13:31:35.621Z"
   },
   {
    "duration": 245,
    "start_time": "2024-11-27T13:31:37.185Z"
   },
   {
    "duration": 60,
    "start_time": "2024-11-27T13:31:37.431Z"
   },
   {
    "duration": 122,
    "start_time": "2024-11-27T13:31:37.492Z"
   },
   {
    "duration": 303,
    "start_time": "2024-11-27T13:31:37.615Z"
   },
   {
    "duration": 23,
    "start_time": "2024-11-27T13:31:37.920Z"
   },
   {
    "duration": 103,
    "start_time": "2024-11-27T13:31:37.946Z"
   },
   {
    "duration": 14,
    "start_time": "2024-11-27T13:31:38.052Z"
   },
   {
    "duration": 264102,
    "start_time": "2024-11-27T13:31:38.068Z"
   },
   {
    "duration": 35900,
    "start_time": "2024-11-27T13:36:02.172Z"
   },
   {
    "duration": 1377,
    "start_time": "2024-11-27T13:36:38.075Z"
   },
   {
    "duration": 18,
    "start_time": "2024-11-27T13:36:39.454Z"
   },
   {
    "duration": 11,
    "start_time": "2024-11-27T13:36:39.474Z"
   },
   {
    "duration": 92,
    "start_time": "2024-11-27T13:36:39.487Z"
   },
   {
    "duration": 269649,
    "start_time": "2024-11-27T13:36:39.581Z"
   },
   {
    "duration": 34291,
    "start_time": "2024-11-27T13:41:09.233Z"
   },
   {
    "duration": 3057,
    "start_time": "2024-11-27T13:41:43.526Z"
   },
   {
    "duration": 3,
    "start_time": "2024-11-27T13:41:46.585Z"
   },
   {
    "duration": 51,
    "start_time": "2024-11-27T13:41:46.589Z"
   },
   {
    "duration": 59,
    "start_time": "2024-11-27T13:41:46.642Z"
   }
  ],
  "kernelspec": {
   "display_name": "Python 3 (ipykernel)",
   "language": "python",
   "name": "python3"
  },
  "language_info": {
   "codemirror_mode": {
    "name": "ipython",
    "version": 3
   },
   "file_extension": ".py",
   "mimetype": "text/x-python",
   "name": "python",
   "nbconvert_exporter": "python",
   "pygments_lexer": "ipython3",
   "version": "3.11.7"
  },
  "toc": {
   "base_numbering": 1,
   "nav_menu": {},
   "number_sections": true,
   "sideBar": true,
   "skip_h1_title": true,
   "title_cell": "Содержание",
   "title_sidebar": "Contents",
   "toc_cell": true,
   "toc_position": {
    "height": "calc(100% - 180px)",
    "left": "10px",
    "top": "150px",
    "width": "228.391px"
   },
   "toc_section_display": true,
   "toc_window_display": true
  }
 },
 "nbformat": 4,
 "nbformat_minor": 4
}
